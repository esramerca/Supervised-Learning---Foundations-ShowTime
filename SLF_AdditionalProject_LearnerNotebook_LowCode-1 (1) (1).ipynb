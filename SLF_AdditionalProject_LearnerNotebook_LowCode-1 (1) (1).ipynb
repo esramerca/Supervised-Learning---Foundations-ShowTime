{
 "cells": [
  {
   "cell_type": "markdown",
   "metadata": {
    "id": "C0PqJYqN7YUS"
   },
   "source": [
    "# Supervised Learning - Foundations: ShowTime \n",
    "\n",
    "**Marks: 60**"
   ]
  },
  {
   "cell_type": "markdown",
   "metadata": {
    "id": "RMyeNgNt7j1B"
   },
   "source": [
    "## Context\n",
    "An over-the-top (OTT) media service is a media service offered directly to viewers via the internet. The term is most synonymous with subscription-based video-on-demand services that offer access to film and television content, including existing series acquired from other producers, as well as original content produced specifically for the service. They are typically accessed via websites on personal computers, apps on smartphones and tablets, or televisions with integrated Smart TV platforms.\n",
    "\n",
    "Presently, OTT services are at a relatively nascent stage and are widely accepted as a trending technology across the globe. With the increasing change in customers' social behavior, which is shifting from traditional subscriptions to broadcasting services and OTT on-demand video and music subscriptions every year, OTT streaming is expected to grow at a very fast pace. The global OTT market size was valued at 121.61 billion dollars in 2019 and is projected to reach 1,039.03 billion dollars by 2027, growing at a CAGR of 29.4% from 2020 to 2027. The shift from television to OTT services for entertainment is driven by benefits such as on-demand services, ease of access, and access to better networks and digital connectivity.\n",
    "\n",
    "With the outbreak of COVID19, OTT services are striving to meet the growing entertainment appetite of viewers, with some platforms already experiencing a 46% increase in consumption and subscriber count as viewers seek fresh content. With innovations and advanced transformations, which will enable the customers to access everything they want in a single space, OTT platforms across the world are expected to increasingly attract subscribers on a concurrent basis.\n",
    "\n",
    "## Objective\n",
    "ShowTime is an OTT service provider and offers a wide variety of content (movies, web shows, etc.) for its users. They want to determine the driver variables for first-day content viewership so that they can take necessary measures to improve the viewership of the content on their platform. Some of the reasons for the decline in viewership of content would be the decline in the number of people coming to the platform, decreased marketing spend, content timing clashes, weekends and holidays, etc. They have hired you as a Data Scientist, shared the data of the current content in their platform, and asked you to analyze the data and come up with a linear regression model to determine the driving factors for first-day viewership.\n",
    "\n",
    " \n",
    "\n",
    "## Data Description\n",
    "The data contains the different factors to analyze for the content. The detailed data dictionary is given below.\n",
    "\n",
    "**Data Dictionary**\n",
    "\n",
    "- visitors: Number of visitors, in millions, to the platform in the past week\n",
    "- ad_impressions: Number of ad impressions, in millions, across all ad campaigns for the content (running and completed)\n",
    "- major_sports_event: Any major sports event on the day\n",
    "- genre: Genre of the content\n",
    "- dayofweek: Day of the release of the content\n",
    "- season: Season of the release of the content\n",
    "- views_trailer: Number of views, in millions, of the content trailer\n",
    "- views_content: Number of first-day views, in millions, of the content"
   ]
  },
  {
   "cell_type": "markdown",
   "metadata": {
    "id": "Fo837WPB7tF4"
   },
   "source": [
    "### **Please read the instructions carefully before starting the project.** \n",
    "This is a commented Jupyter IPython Notebook file in which all the instructions and tasks to be performed are mentioned. \n",
    "* Blanks '_______' are provided in the notebook that \n",
    "needs to be filled with an appropriate code to get the correct result. With every '_______' blank, there is a comment that briefly describes what needs to be filled in the blank space. \n",
    "* Identify the task to be performed correctly, and only then proceed to write the required code.\n",
    "* Fill the code wherever asked by the commented lines like \"# write your code here\" or \"# complete the code\". Running incomplete code may throw error.\n",
    "* Please run the codes in a sequential manner from the beginning to avoid any unnecessary errors.\n",
    "* Add the results/observations (wherever mentioned) derived from the analysis in the presentation and submit the same. Any mathematical or computational details which are a graded part of the project can be included in the Appendix section of the presentation.\n"
   ]
  },
  {
   "cell_type": "markdown",
   "metadata": {
    "id": "G4ZsLeN97xvP"
   },
   "source": [
    "### Let us start by importing necessary libraries and data"
   ]
  },
  {
   "cell_type": "code",
   "execution_count": 1,
   "metadata": {
    "id": "A9BVt2wX7PSU"
   },
   "outputs": [],
   "source": [
    "\n",
    "# Libraries to help with reading and manipulating data\n",
    "import numpy as np\n",
    "import pandas as pd\n",
    "\n",
    "# Libraries to help with data visualization\n",
    "import matplotlib.pyplot as plt\n",
    "import seaborn as sns\n",
    "\n",
    "sns.set()\n",
    "\n",
    "# split the data into train and test\n",
    "from sklearn.model_selection import train_test_split\n",
    "\n",
    "# to build linear regression_model\n",
    "from sklearn.linear_model import LinearRegression\n",
    "\n",
    "# to check model performance\n",
    "from sklearn.metrics import mean_absolute_error, mean_squared_error, r2_score\n",
    "\n",
    "# to build linear regression_model using statsmodels\n",
    "import statsmodels.api as sm\n",
    "\n",
    "# to compute VIF\n",
    "from statsmodels.stats.outliers_influence import variance_inflation_factor"
   ]
  },
  {
   "cell_type": "code",
   "execution_count": 2,
   "metadata": {
    "id": "jQOeuFnD77YR"
   },
   "outputs": [],
   "source": [
    "# loading data\n",
    "data = pd.read_csv('ottdata.csv') ##  Complete the code to read the data"
   ]
  },
  {
   "cell_type": "code",
   "execution_count": 3,
   "metadata": {
    "id": "_oR5BOJ48CF6"
   },
   "outputs": [
    {
     "name": "stdout",
     "output_type": "stream",
     "text": [
      "There are 1000 rows and 8 columns.\n"
     ]
    }
   ],
   "source": [
    "# checking shape of the data\n",
    "print(f\"There are {data.shape[0]} rows and {data.shape[1]} columns.\") # Complete the code to get the shape of data"
   ]
  },
  {
   "cell_type": "code",
   "execution_count": 4,
   "metadata": {
    "id": "nR6TS2g68bUf"
   },
   "outputs": [
    {
     "data": {
      "text/html": [
       "<div>\n",
       "<style scoped>\n",
       "    .dataframe tbody tr th:only-of-type {\n",
       "        vertical-align: middle;\n",
       "    }\n",
       "\n",
       "    .dataframe tbody tr th {\n",
       "        vertical-align: top;\n",
       "    }\n",
       "\n",
       "    .dataframe thead th {\n",
       "        text-align: right;\n",
       "    }\n",
       "</style>\n",
       "<table border=\"1\" class=\"dataframe\">\n",
       "  <thead>\n",
       "    <tr style=\"text-align: right;\">\n",
       "      <th></th>\n",
       "      <th>visitors</th>\n",
       "      <th>ad_impressions</th>\n",
       "      <th>major_sports_event</th>\n",
       "      <th>genre</th>\n",
       "      <th>dayofweek</th>\n",
       "      <th>season</th>\n",
       "      <th>views_trailer</th>\n",
       "      <th>views_content</th>\n",
       "    </tr>\n",
       "  </thead>\n",
       "  <tbody>\n",
       "    <tr>\n",
       "      <th>507</th>\n",
       "      <td>1.58</td>\n",
       "      <td>1323.74</td>\n",
       "      <td>0</td>\n",
       "      <td>Comedy</td>\n",
       "      <td>Sunday</td>\n",
       "      <td>Spring</td>\n",
       "      <td>57.85</td>\n",
       "      <td>0.43</td>\n",
       "    </tr>\n",
       "    <tr>\n",
       "      <th>818</th>\n",
       "      <td>1.54</td>\n",
       "      <td>2122.33</td>\n",
       "      <td>0</td>\n",
       "      <td>Action</td>\n",
       "      <td>Thursday</td>\n",
       "      <td>Spring</td>\n",
       "      <td>56.82</td>\n",
       "      <td>0.45</td>\n",
       "    </tr>\n",
       "    <tr>\n",
       "      <th>452</th>\n",
       "      <td>1.82</td>\n",
       "      <td>1152.29</td>\n",
       "      <td>0</td>\n",
       "      <td>Comedy</td>\n",
       "      <td>Friday</td>\n",
       "      <td>Fall</td>\n",
       "      <td>165.58</td>\n",
       "      <td>0.63</td>\n",
       "    </tr>\n",
       "    <tr>\n",
       "      <th>368</th>\n",
       "      <td>2.03</td>\n",
       "      <td>1145.37</td>\n",
       "      <td>0</td>\n",
       "      <td>Sci-Fi</td>\n",
       "      <td>Friday</td>\n",
       "      <td>Spring</td>\n",
       "      <td>59.99</td>\n",
       "      <td>0.50</td>\n",
       "    </tr>\n",
       "    <tr>\n",
       "      <th>242</th>\n",
       "      <td>1.75</td>\n",
       "      <td>1060.86</td>\n",
       "      <td>0</td>\n",
       "      <td>Thriller</td>\n",
       "      <td>Friday</td>\n",
       "      <td>Summer</td>\n",
       "      <td>58.99</td>\n",
       "      <td>0.50</td>\n",
       "    </tr>\n",
       "    <tr>\n",
       "      <th>929</th>\n",
       "      <td>1.41</td>\n",
       "      <td>1231.30</td>\n",
       "      <td>1</td>\n",
       "      <td>Comedy</td>\n",
       "      <td>Saturday</td>\n",
       "      <td>Winter</td>\n",
       "      <td>53.89</td>\n",
       "      <td>0.40</td>\n",
       "    </tr>\n",
       "    <tr>\n",
       "      <th>262</th>\n",
       "      <td>1.63</td>\n",
       "      <td>1623.67</td>\n",
       "      <td>0</td>\n",
       "      <td>Action</td>\n",
       "      <td>Wednesday</td>\n",
       "      <td>Winter</td>\n",
       "      <td>108.20</td>\n",
       "      <td>0.46</td>\n",
       "    </tr>\n",
       "    <tr>\n",
       "      <th>810</th>\n",
       "      <td>1.83</td>\n",
       "      <td>1398.05</td>\n",
       "      <td>0</td>\n",
       "      <td>Others</td>\n",
       "      <td>Friday</td>\n",
       "      <td>Fall</td>\n",
       "      <td>55.58</td>\n",
       "      <td>0.42</td>\n",
       "    </tr>\n",
       "    <tr>\n",
       "      <th>318</th>\n",
       "      <td>2.06</td>\n",
       "      <td>1928.85</td>\n",
       "      <td>1</td>\n",
       "      <td>Sci-Fi</td>\n",
       "      <td>Saturday</td>\n",
       "      <td>Summer</td>\n",
       "      <td>52.40</td>\n",
       "      <td>0.51</td>\n",
       "    </tr>\n",
       "    <tr>\n",
       "      <th>49</th>\n",
       "      <td>1.92</td>\n",
       "      <td>1342.77</td>\n",
       "      <td>1</td>\n",
       "      <td>Others</td>\n",
       "      <td>Friday</td>\n",
       "      <td>Spring</td>\n",
       "      <td>60.37</td>\n",
       "      <td>0.34</td>\n",
       "    </tr>\n",
       "  </tbody>\n",
       "</table>\n",
       "</div>"
      ],
      "text/plain": [
       "     visitors  ad_impressions  major_sports_event     genre  dayofweek  \\\n",
       "507      1.58         1323.74                   0    Comedy     Sunday   \n",
       "818      1.54         2122.33                   0    Action   Thursday   \n",
       "452      1.82         1152.29                   0    Comedy     Friday   \n",
       "368      2.03         1145.37                   0    Sci-Fi     Friday   \n",
       "242      1.75         1060.86                   0  Thriller     Friday   \n",
       "929      1.41         1231.30                   1    Comedy   Saturday   \n",
       "262      1.63         1623.67                   0    Action  Wednesday   \n",
       "810      1.83         1398.05                   0    Others     Friday   \n",
       "318      2.06         1928.85                   1    Sci-Fi   Saturday   \n",
       "49       1.92         1342.77                   1    Others     Friday   \n",
       "\n",
       "     season  views_trailer  views_content  \n",
       "507  Spring          57.85           0.43  \n",
       "818  Spring          56.82           0.45  \n",
       "452    Fall         165.58           0.63  \n",
       "368  Spring          59.99           0.50  \n",
       "242  Summer          58.99           0.50  \n",
       "929  Winter          53.89           0.40  \n",
       "262  Winter         108.20           0.46  \n",
       "810    Fall          55.58           0.42  \n",
       "318  Summer          52.40           0.51  \n",
       "49   Spring          60.37           0.34  "
      ]
     },
     "execution_count": 4,
     "metadata": {},
     "output_type": "execute_result"
    }
   ],
   "source": [
    "# let's view a sample of the data\n",
    "data.sample(n=10, random_state=1)"
   ]
  },
  {
   "cell_type": "code",
   "execution_count": 5,
   "metadata": {
    "id": "hte9wsAI8fUU"
   },
   "outputs": [],
   "source": [
    "# let's create a copy of the data to avoid any changes to original data\n",
    "df = data.copy() # Complete the code to create a copy of data"
   ]
  },
  {
   "cell_type": "code",
   "execution_count": 6,
   "metadata": {
    "id": "a9DmYQcn8qP2"
   },
   "outputs": [
    {
     "name": "stdout",
     "output_type": "stream",
     "text": [
      "<class 'pandas.core.frame.DataFrame'>\n",
      "RangeIndex: 1000 entries, 0 to 999\n",
      "Data columns (total 8 columns):\n",
      " #   Column              Non-Null Count  Dtype  \n",
      "---  ------              --------------  -----  \n",
      " 0   visitors            1000 non-null   float64\n",
      " 1   ad_impressions      1000 non-null   float64\n",
      " 2   major_sports_event  1000 non-null   int64  \n",
      " 3   genre               1000 non-null   object \n",
      " 4   dayofweek           1000 non-null   object \n",
      " 5   season              1000 non-null   object \n",
      " 6   views_trailer       1000 non-null   float64\n",
      " 7   views_content       1000 non-null   float64\n",
      "dtypes: float64(4), int64(1), object(3)\n",
      "memory usage: 62.6+ KB\n"
     ]
    }
   ],
   "source": [
    "# checking the column names and datatypes\n",
    "df.info()"
   ]
  },
  {
   "cell_type": "code",
   "execution_count": 7,
   "metadata": {
    "id": "PXU5dVf98yZ7"
   },
   "outputs": [
    {
     "data": {
      "text/plain": [
       "visitors               56\n",
       "ad_impressions         80\n",
       "major_sports_event      2\n",
       "genre                   8\n",
       "dayofweek               7\n",
       "season                  4\n",
       "views_trailer         799\n",
       "views_content          61\n",
       "dtype: int64"
      ]
     },
     "execution_count": 7,
     "metadata": {},
     "output_type": "execute_result"
    }
   ],
   "source": [
    "# checking for unique values\n",
    "df.nunique() \n"
   ]
  },
  {
   "cell_type": "code",
   "execution_count": 8,
   "metadata": {},
   "outputs": [
    {
     "data": {
      "text/plain": [
       "1000"
      ]
     },
     "execution_count": 8,
     "metadata": {},
     "output_type": "execute_result"
    }
   ],
   "source": [
    "df.duplicated()# checking for duplicate values\n",
    "len(df.duplicated() ==\n",
    "False)# Complete the code to get total number of duplicate values"
   ]
  },
  {
   "cell_type": "markdown",
   "metadata": {},
   "source": [
    "- There are no duplicated value."
   ]
  },
  {
   "cell_type": "code",
   "execution_count": 9,
   "metadata": {
    "id": "qyPXOpH387sp"
   },
   "outputs": [
    {
     "data": {
      "text/plain": [
       "visitors              0\n",
       "ad_impressions        0\n",
       "major_sports_event    0\n",
       "genre                 0\n",
       "dayofweek             0\n",
       "season                0\n",
       "views_trailer         0\n",
       "views_content         0\n",
       "dtype: int64"
      ]
     },
     "execution_count": 9,
     "metadata": {},
     "output_type": "execute_result"
    }
   ],
   "source": [
    "# checking for missing values in the data\n",
    "df.isnull().sum() # Complete the code to get total number of missing values"
   ]
  },
  {
   "cell_type": "markdown",
   "metadata": {},
   "source": [
    "- There are no missing value in the data. "
   ]
  },
  {
   "cell_type": "markdown",
   "metadata": {
    "id": "LWPDGDAJ9PZs"
   },
   "source": [
    "## Exploratory Data Analysis"
   ]
  },
  {
   "cell_type": "markdown",
   "metadata": {
    "id": "jj-k3tKq9T2U"
   },
   "source": [
    "**Let's check the statistical summary of the data.**"
   ]
  },
  {
   "cell_type": "code",
   "execution_count": 10,
   "metadata": {
    "id": "o0DI56Mx9K2s"
   },
   "outputs": [
    {
     "data": {
      "text/html": [
       "<div>\n",
       "<style scoped>\n",
       "    .dataframe tbody tr th:only-of-type {\n",
       "        vertical-align: middle;\n",
       "    }\n",
       "\n",
       "    .dataframe tbody tr th {\n",
       "        vertical-align: top;\n",
       "    }\n",
       "\n",
       "    .dataframe thead th {\n",
       "        text-align: right;\n",
       "    }\n",
       "</style>\n",
       "<table border=\"1\" class=\"dataframe\">\n",
       "  <thead>\n",
       "    <tr style=\"text-align: right;\">\n",
       "      <th></th>\n",
       "      <th>count</th>\n",
       "      <th>unique</th>\n",
       "      <th>top</th>\n",
       "      <th>freq</th>\n",
       "      <th>mean</th>\n",
       "      <th>std</th>\n",
       "      <th>min</th>\n",
       "      <th>25%</th>\n",
       "      <th>50%</th>\n",
       "      <th>75%</th>\n",
       "      <th>max</th>\n",
       "    </tr>\n",
       "  </thead>\n",
       "  <tbody>\n",
       "    <tr>\n",
       "      <th>visitors</th>\n",
       "      <td>1000.0</td>\n",
       "      <td>NaN</td>\n",
       "      <td>NaN</td>\n",
       "      <td>NaN</td>\n",
       "      <td>1.70429</td>\n",
       "      <td>0.231973</td>\n",
       "      <td>1.25</td>\n",
       "      <td>1.55</td>\n",
       "      <td>1.7</td>\n",
       "      <td>1.83</td>\n",
       "      <td>2.34</td>\n",
       "    </tr>\n",
       "    <tr>\n",
       "      <th>ad_impressions</th>\n",
       "      <td>1000.0</td>\n",
       "      <td>NaN</td>\n",
       "      <td>NaN</td>\n",
       "      <td>NaN</td>\n",
       "      <td>1434.71229</td>\n",
       "      <td>289.534834</td>\n",
       "      <td>1010.87</td>\n",
       "      <td>1210.33</td>\n",
       "      <td>1383.58</td>\n",
       "      <td>1623.67</td>\n",
       "      <td>2424.2</td>\n",
       "    </tr>\n",
       "    <tr>\n",
       "      <th>major_sports_event</th>\n",
       "      <td>1000.0</td>\n",
       "      <td>NaN</td>\n",
       "      <td>NaN</td>\n",
       "      <td>NaN</td>\n",
       "      <td>0.4</td>\n",
       "      <td>0.490143</td>\n",
       "      <td>0.0</td>\n",
       "      <td>0.0</td>\n",
       "      <td>0.0</td>\n",
       "      <td>1.0</td>\n",
       "      <td>1.0</td>\n",
       "    </tr>\n",
       "    <tr>\n",
       "      <th>genre</th>\n",
       "      <td>1000</td>\n",
       "      <td>8</td>\n",
       "      <td>Others</td>\n",
       "      <td>255</td>\n",
       "      <td>NaN</td>\n",
       "      <td>NaN</td>\n",
       "      <td>NaN</td>\n",
       "      <td>NaN</td>\n",
       "      <td>NaN</td>\n",
       "      <td>NaN</td>\n",
       "      <td>NaN</td>\n",
       "    </tr>\n",
       "    <tr>\n",
       "      <th>dayofweek</th>\n",
       "      <td>1000</td>\n",
       "      <td>7</td>\n",
       "      <td>Friday</td>\n",
       "      <td>369</td>\n",
       "      <td>NaN</td>\n",
       "      <td>NaN</td>\n",
       "      <td>NaN</td>\n",
       "      <td>NaN</td>\n",
       "      <td>NaN</td>\n",
       "      <td>NaN</td>\n",
       "      <td>NaN</td>\n",
       "    </tr>\n",
       "    <tr>\n",
       "      <th>season</th>\n",
       "      <td>1000</td>\n",
       "      <td>4</td>\n",
       "      <td>Winter</td>\n",
       "      <td>257</td>\n",
       "      <td>NaN</td>\n",
       "      <td>NaN</td>\n",
       "      <td>NaN</td>\n",
       "      <td>NaN</td>\n",
       "      <td>NaN</td>\n",
       "      <td>NaN</td>\n",
       "      <td>NaN</td>\n",
       "    </tr>\n",
       "    <tr>\n",
       "      <th>views_trailer</th>\n",
       "      <td>1000.0</td>\n",
       "      <td>NaN</td>\n",
       "      <td>NaN</td>\n",
       "      <td>NaN</td>\n",
       "      <td>66.91559</td>\n",
       "      <td>35.00108</td>\n",
       "      <td>30.08</td>\n",
       "      <td>50.9475</td>\n",
       "      <td>53.96</td>\n",
       "      <td>57.755</td>\n",
       "      <td>199.92</td>\n",
       "    </tr>\n",
       "    <tr>\n",
       "      <th>views_content</th>\n",
       "      <td>1000.0</td>\n",
       "      <td>NaN</td>\n",
       "      <td>NaN</td>\n",
       "      <td>NaN</td>\n",
       "      <td>0.4734</td>\n",
       "      <td>0.105914</td>\n",
       "      <td>0.22</td>\n",
       "      <td>0.4</td>\n",
       "      <td>0.45</td>\n",
       "      <td>0.52</td>\n",
       "      <td>0.89</td>\n",
       "    </tr>\n",
       "  </tbody>\n",
       "</table>\n",
       "</div>"
      ],
      "text/plain": [
       "                     count unique     top freq        mean         std  \\\n",
       "visitors            1000.0    NaN     NaN  NaN     1.70429    0.231973   \n",
       "ad_impressions      1000.0    NaN     NaN  NaN  1434.71229  289.534834   \n",
       "major_sports_event  1000.0    NaN     NaN  NaN         0.4    0.490143   \n",
       "genre                 1000      8  Others  255         NaN         NaN   \n",
       "dayofweek             1000      7  Friday  369         NaN         NaN   \n",
       "season                1000      4  Winter  257         NaN         NaN   \n",
       "views_trailer       1000.0    NaN     NaN  NaN    66.91559    35.00108   \n",
       "views_content       1000.0    NaN     NaN  NaN      0.4734    0.105914   \n",
       "\n",
       "                        min      25%      50%      75%     max  \n",
       "visitors               1.25     1.55      1.7     1.83    2.34  \n",
       "ad_impressions      1010.87  1210.33  1383.58  1623.67  2424.2  \n",
       "major_sports_event      0.0      0.0      0.0      1.0     1.0  \n",
       "genre                   NaN      NaN      NaN      NaN     NaN  \n",
       "dayofweek               NaN      NaN      NaN      NaN     NaN  \n",
       "season                  NaN      NaN      NaN      NaN     NaN  \n",
       "views_trailer         30.08  50.9475    53.96   57.755  199.92  \n",
       "views_content          0.22      0.4     0.45     0.52    0.89  "
      ]
     },
     "execution_count": 10,
     "metadata": {},
     "output_type": "execute_result"
    }
   ],
   "source": [
    "# Write the code to print the statistical summary of the data\n",
    "df.describe(include=\"all\").T"
   ]
  },
  {
   "cell_type": "markdown",
   "metadata": {},
   "source": [
    "### Observations:\n",
    "- There are 1000 visitors,ad_impressions, major_sports_event, and 1000 recorded genre, dayofweek, season,views_trailer,views content\n",
    "- genre has 8 unique value and `others` apperar most\n",
    "- Friday has the most choosen day to watch a movie\n",
    "- Visitors go to movie mostly on Winter Season\n",
    "- `views_trailer` will have have right skew distribution. It will need a log transformation."
   ]
  },
  {
   "cell_type": "markdown",
   "metadata": {
    "id": "KXtEh0dK---k"
   },
   "source": [
    "### Univariate Analysis"
   ]
  },
  {
   "cell_type": "code",
   "execution_count": 11,
   "metadata": {
    "id": "ig0DXSi2-xm1"
   },
   "outputs": [],
   "source": [
    "# function to plot a boxplot and a histogram along the same scale.\n",
    "\n",
    "\n",
    "def histogram_boxplot(data, feature, figsize=(12, 7), kde=False, bins=None):\n",
    "    \"\"\"\n",
    "    Boxplot and histogram combined\n",
    "\n",
    "    data: dataframe\n",
    "    feature: dataframe column\n",
    "    figsize: size of figure (default (12,7))\n",
    "    kde: whether to the show density curve (default False)\n",
    "    bins: number of bins for histogram (default None)\n",
    "    \"\"\"\n",
    "    f2, (ax_box2, ax_hist2) = plt.subplots(\n",
    "        nrows=2,  # Number of rows of the subplot grid= 2\n",
    "        sharex=True,  # x-axis will be shared among all subplots\n",
    "        gridspec_kw={\"height_ratios\": (0.25, 0.75)},\n",
    "        figsize=figsize,\n",
    "    )  # creating the 2 subplots\n",
    "    sns.boxplot(\n",
    "        data=data, x=feature, ax=ax_box2, showmeans=True, color=\"violet\"\n",
    "    )  # boxplot will be created and a star will indicate the mean value of the column\n",
    "    sns.histplot(\n",
    "        data=data, x=feature, kde=kde, ax=ax_hist2, bins=bins, palette=\"winter\"\n",
    "    ) if bins else sns.histplot(\n",
    "        data=data, x=feature, kde=kde, ax=ax_hist2\n",
    "    )  # For histogram\n",
    "    ax_hist2.axvline(\n",
    "        data[feature].mean(), color=\"green\", linestyle=\"--\"\n",
    "    )  # Add mean to the histogram\n",
    "    ax_hist2.axvline(\n",
    "        data[feature].median(), color=\"black\", linestyle=\"-\"\n",
    "    )  # Add median to the histogram"
   ]
  },
  {
   "cell_type": "markdown",
   "metadata": {
    "id": "vKXXo1VJ_I3Z"
   },
   "source": [
    "**`views_content`**"
   ]
  },
  {
   "cell_type": "code",
   "execution_count": 12,
   "metadata": {
    "id": "vsO8zk5Z_OYR"
   },
   "outputs": [
    {
     "data": {
      "image/png": "[encoded data removed]",
      "text/plain": [
       "<Figure size 864x504 with 2 Axes>"
      ]
     },
     "metadata": {},
     "output_type": "display_data"
    }
   ],
   "source": [
    "histogram_boxplot(df, \"views_content\") # boxplot for views_content using dataframe"
   ]
  },
  {
   "cell_type": "markdown",
   "metadata": {},
   "source": [
    "- Content views has a closed to normal distribution. "
   ]
  },
  {
   "cell_type": "markdown",
   "metadata": {
    "id": "b7KsEwJl_lYj"
   },
   "source": [
    "**`visitors`**"
   ]
  },
  {
   "cell_type": "code",
   "execution_count": 13,
   "metadata": {
    "id": "pPCog-WO_2k-"
   },
   "outputs": [
    {
     "data": {
      "image/png": "[encoded data removed]",
      "text/plain": [
       "<Figure size 864x504 with 2 Axes>"
      ]
     },
     "metadata": {},
     "output_type": "display_data"
    }
   ],
   "source": [
    "histogram_boxplot(df, \"visitors\")  ## Complete the code to create histogram_boxplot for 'visitors'"
   ]
  },
  {
   "cell_type": "markdown",
   "metadata": {},
   "source": [
    "- Visitors has a normal distribution.Mean and Median value is about 1.7M .  "
   ]
  },
  {
   "cell_type": "markdown",
   "metadata": {
    "id": "AWt3WOL1_3xc"
   },
   "source": [
    "**`ad_impressions`**"
   ]
  },
  {
   "cell_type": "code",
   "execution_count": 14,
   "metadata": {
    "id": "z5VyzrIl_1mR"
   },
   "outputs": [
    {
     "data": {
      "image/png": "[encoded data removed]",
      "text/plain": [
       "<Figure size 864x504 with 2 Axes>"
      ]
     },
     "metadata": {},
     "output_type": "display_data"
    }
   ],
   "source": [
    "histogram_boxplot(df, \"ad_impressions\")  ## Complete the code to create histogram_boxplot for 'ad_impressions'"
   ]
  },
  {
   "cell_type": "markdown",
   "metadata": {},
   "source": [
    "- ad_impressions has a close to normal distribution. No need for log transformation. "
   ]
  },
  {
   "cell_type": "markdown",
   "metadata": {
    "id": "i3gHf4faAC97"
   },
   "source": [
    "**`views_trailer`**"
   ]
  },
  {
   "cell_type": "code",
   "execution_count": 15,
   "metadata": {
    "id": "XeBidUb0_ZwA"
   },
   "outputs": [
    {
     "data": {
      "image/png": "[encoded data removed]",
      "text/plain": [
       "<Figure size 864x504 with 2 Axes>"
      ]
     },
     "metadata": {},
     "output_type": "display_data"
    }
   ],
   "source": [
    "histogram_boxplot(df, \"views_trailer\")  ## Complete the code to create histogram_boxplot for 'views_trailer'"
   ]
  },
  {
   "cell_type": "markdown",
   "metadata": {},
   "source": [
    "- views_trailer is heavily right skewed. Log transformation is needed.  "
   ]
  },
  {
   "cell_type": "code",
   "execution_count": 16,
   "metadata": {
    "id": "VXv2mBJvAXcb"
   },
   "outputs": [],
   "source": [
    "df[\"views_trailer_log\"] = np.log(df[\"views_trailer\"]) ## Complete the code to take log over df[\"views_trailer\"]"
   ]
  },
  {
   "cell_type": "code",
   "execution_count": 17,
   "metadata": {
    "id": "87AoFHVjAmw5"
   },
   "outputs": [
    {
     "data": {
      "image/png": "[encoded data removed]",
      "text/plain": [
       "<Figure size 864x504 with 2 Axes>"
      ]
     },
     "metadata": {},
     "output_type": "display_data"
    }
   ],
   "source": [
    "histogram_boxplot(df, \"views_trailer_log\")  ## Complete the code to create histogram_boxplot for 'views_trailer_log'"
   ]
  },
  {
   "cell_type": "markdown",
   "metadata": {},
   "source": [
    "-The shape looks the same but since numbers are more computable it will help for data."
   ]
  },
  {
   "cell_type": "code",
   "execution_count": 18,
   "metadata": {
    "id": "zBq3ErctAtkF"
   },
   "outputs": [],
   "source": [
    "# function to create labeled barplots\n",
    "\n",
    "\n",
    "def labeled_barplot(data, feature, perc=False, n=None):\n",
    "    \"\"\"\n",
    "    Barplot with percentage at the top\n",
    "\n",
    "    data: dataframe\n",
    "    feature: dataframe column\n",
    "    perc: whether to display percentages instead of count (default is False)\n",
    "    n: displays the top n category levels (default is None, i.e., display all levels)\n",
    "    \"\"\"\n",
    "\n",
    "    total = len(data[feature])  # length of the column\n",
    "    count = data[feature].nunique()\n",
    "    if n is None:\n",
    "        plt.figure(figsize=(count + 1, 5))\n",
    "    else:\n",
    "        plt.figure(figsize=(n + 1, 5))\n",
    "\n",
    "    plt.xticks(rotation=90, fontsize=15)\n",
    "    ax = sns.countplot(\n",
    "        data=data,\n",
    "        x=feature,\n",
    "        palette=\"Paired\",\n",
    "        order=data[feature].value_counts().index[:n].sort_values(),\n",
    "    )\n",
    "\n",
    "    for p in ax.patches:\n",
    "        if perc == True:\n",
    "            label = \"{:.1f}%\".format(\n",
    "                100 * p.get_height() / total\n",
    "            )  # percentage of each class of the category\n",
    "        else:\n",
    "            label = p.get_height()  # count of each level of the category\n",
    "\n",
    "        x = p.get_x() + p.get_width() / 2  # width of the plot\n",
    "        y = p.get_height()  # height of the plot\n",
    "\n",
    "        ax.annotate(\n",
    "            label,\n",
    "            (x, y),\n",
    "            ha=\"center\",\n",
    "            va=\"center\",\n",
    "            size=12,\n",
    "            xytext=(0, 5),\n",
    "            textcoords=\"offset points\",\n",
    "        )  # annotate the percentage\n",
    "\n",
    "    plt.show()  # show the plot"
   ]
  },
  {
   "cell_type": "markdown",
   "metadata": {
    "id": "mkaqhgIwA1YW"
   },
   "source": [
    "**`major_sports_event`**"
   ]
  },
  {
   "cell_type": "code",
   "execution_count": 19,
   "metadata": {
    "id": "f-NV4uvGA0dP"
   },
   "outputs": [
    {
     "data": {
      "image/png": "[encoded data removed]",
      "text/plain": [
       "<Figure size 216x360 with 1 Axes>"
      ]
     },
     "metadata": {},
     "output_type": "display_data"
    }
   ],
   "source": [
    "labeled_barplot(df, \"major_sports_event\", perc=True) # barplot for major_sports_event"
   ]
  },
  {
   "cell_type": "markdown",
   "metadata": {},
   "source": [
    "- 40% of the events are major sports event. "
   ]
  },
  {
   "cell_type": "markdown",
   "metadata": {
    "id": "bsvWv-PKBPXF"
   },
   "source": [
    "**`genre`**"
   ]
  },
  {
   "cell_type": "code",
   "execution_count": 20,
   "metadata": {
    "id": "3Uf0UqqLBHO1"
   },
   "outputs": [
    {
     "data": {
      "image/png": "[encoded data removed]",
      "text/plain": [
       "<Figure size 648x360 with 1 Axes>"
      ]
     },
     "metadata": {},
     "output_type": "display_data"
    }
   ],
   "source": [
    "labeled_barplot(df, \"genre\", perc=True) ## Complete the code to create labeled_barplot for 'genre'"
   ]
  },
  {
   "cell_type": "markdown",
   "metadata": {},
   "source": [
    "- Others is leading on `genre`. Comedy and Thriller is most preffered, but the other genres percentages are very closed to each other. "
   ]
  },
  {
   "cell_type": "markdown",
   "metadata": {
    "id": "XyYneGd2BZB7"
   },
   "source": [
    "**`dayofweek`**"
   ]
  },
  {
   "cell_type": "code",
   "execution_count": 21,
   "metadata": {
    "id": "cezBmneNBZPK"
   },
   "outputs": [
    {
     "data": {
      "image/png": "[encoded data removed]",
      "text/plain": [
       "<Figure size 576x360 with 1 Axes>"
      ]
     },
     "metadata": {},
     "output_type": "display_data"
    }
   ],
   "source": [
    "labeled_barplot(df, \"dayofweek\", perc=True) ## Complete the code to create labeled_barplot for 'dayofweek'"
   ]
  },
  {
   "cell_type": "markdown",
   "metadata": {},
   "source": [
    "- On Fridays and Wednesdays most contents are released"
   ]
  },
  {
   "cell_type": "markdown",
   "metadata": {
    "id": "g_DzY5D6Bai9"
   },
   "source": [
    "**`season`**"
   ]
  },
  {
   "cell_type": "code",
   "execution_count": 22,
   "metadata": {
    "id": "-J2izsfnBasN"
   },
   "outputs": [
    {
     "data": {
      "image/png": "[encoded data removed]",
      "text/plain": [
       "<Figure size 792x360 with 1 Axes>"
      ]
     },
     "metadata": {},
     "output_type": "display_data"
    }
   ],
   "source": [
    "labeled_barplot(df, \"season\", perc=True, n=10) ## Complete the code to create labeled_barplot for 'season'"
   ]
  },
  {
   "cell_type": "markdown",
   "metadata": {},
   "source": [
    "- There is almost an equal amount of movie watched in each season."
   ]
  },
  {
   "cell_type": "markdown",
   "metadata": {
    "id": "tApodwXfBpBR"
   },
   "source": [
    "### Bivariate Analysis\n"
   ]
  },
  {
   "cell_type": "code",
   "execution_count": 23,
   "metadata": {
    "id": "pufPR34sBvLk"
   },
   "outputs": [
    {
     "data": {
      "image/png": "[encoded data removed]",
      "text/plain": [
       "<Figure size 1080x504 with 2 Axes>"
      ]
     },
     "metadata": {},
     "output_type": "display_data"
    }
   ],
   "source": [
    "cols_list = df.select_dtypes(include=np.number).columns.tolist()\n",
    "# dropping major_sports_event as it is nominal in nature\n",
    "cols_list.remove(\"major_sports_event\")\n",
    "\n",
    "plt.figure(figsize=(15, 7))\n",
    "sns.heatmap(\n",
    "    df[cols_list].corr(), annot=True, vmin=-1, vmax=1, fmt=\".2f\", cmap=\"Spectral\"\n",
    ")\n",
    "plt.show()"
   ]
  },
  {
   "cell_type": "markdown",
   "metadata": {},
   "source": [
    "- trailer views and content views has a high correlation (0.75). "
   ]
  },
  {
   "cell_type": "code",
   "execution_count": 24,
   "metadata": {
    "id": "nECsnRitCEgM"
   },
   "outputs": [
    {
     "data": {
      "text/plain": [
       "<AxesSubplot:xlabel='major_sports_event', ylabel='views_content'>"
      ]
     },
     "execution_count": 24,
     "metadata": {},
     "output_type": "execute_result"
    },
    {
     "data": {
      "image/png": "[encoded data removed]",
      "text/plain": [
       "<Figure size 432x288 with 1 Axes>"
      ]
     },
     "metadata": {},
     "output_type": "display_data"
    }
   ],
   "source": [
    "# checking the relation of content view with major sport events\n",
    "sns.barplot(data=df, x=\"major_sports_event\", y=\"views_content\")"
   ]
  },
  {
   "cell_type": "markdown",
   "metadata": {},
   "source": [
    "- ~ 0.44 million visitors viewes content in a major sports event."
   ]
  },
  {
   "cell_type": "code",
   "execution_count": 25,
   "metadata": {
    "id": "AY6YJGWRCJMk"
   },
   "outputs": [
    {
     "data": {
      "image/png": "[encoded data removed]",
      "text/plain": [
       "<Figure size 1080x360 with 1 Axes>"
      ]
     },
     "metadata": {},
     "output_type": "display_data"
    }
   ],
   "source": [
    "# checking the relation of content view with genre\n",
    "plt.figure(figsize=(15, 5))\n",
    "sns.barplot(data=df, x=\"genre\", y=\"views_content\") # Complete the code to plot barplot for genre and views_content\n",
    "plt.xticks(rotation=90)\n",
    "plt.show()"
   ]
  },
  {
   "cell_type": "markdown",
   "metadata": {},
   "source": [
    "- There is no significant difference among the genres.Sci-Fi is leading. "
   ]
  },
  {
   "cell_type": "code",
   "execution_count": 26,
   "metadata": {
    "id": "IVF2M8I3Cu74"
   },
   "outputs": [
    {
     "data": {
      "image/png": "[encoded data removed]",
      "text/plain": [
       "<Figure size 1080x360 with 1 Axes>"
      ]
     },
     "metadata": {},
     "output_type": "display_data"
    }
   ],
   "source": [
    "# checking the relation of content view with day of the week\n",
    "plt.figure(figsize=(15, 5))\n",
    "sns.barplot(data=df, x=\"dayofweek\", y=\"views_content\") # Complete the code to plot barplot for dayofweek and views_content\n",
    "plt.xticks(rotation=90)\n",
    "plt.show()"
   ]
  },
  {
   "cell_type": "markdown",
   "metadata": {},
   "source": [
    "- Visitors prefer to look at the content mostly Saturday,Wednesday and Tuesday respectively."
   ]
  },
  {
   "cell_type": "code",
   "execution_count": 27,
   "metadata": {
    "id": "lzXqsV3ZC9XQ"
   },
   "outputs": [
    {
     "data": {
      "text/plain": [
       "<AxesSubplot:xlabel='season', ylabel='views_content'>"
      ]
     },
     "execution_count": 27,
     "metadata": {},
     "output_type": "execute_result"
    },
    {
     "data": {
      "image/png": "[encoded data removed]",
      "text/plain": [
       "<Figure size 432x288 with 1 Axes>"
      ]
     },
     "metadata": {},
     "output_type": "display_data"
    }
   ],
   "source": [
    "# checking the relation of content view with season\n",
    "sns.barplot(data=df,x=\"season\", y=\"views_content\") # Complete the code to plot barplot for season and views_content"
   ]
  },
  {
   "cell_type": "markdown",
   "metadata": {},
   "source": [
    "- Visitors prefer to view at the content mostly on Summer, Winter and Spring respectively."
   ]
  },
  {
   "cell_type": "markdown",
   "metadata": {
    "id": "qEJ7wFdgDKaL"
   },
   "source": [
    "## Data Preprocessing"
   ]
  },
  {
   "cell_type": "markdown",
   "metadata": {
    "id": "E18AdIQuDga2"
   },
   "source": [
    "**We will replace the 0 and 1 in `major_sports_event` by '*No*' and '*Yes*' respectively.**"
   ]
  },
  {
   "cell_type": "code",
   "execution_count": 28,
   "metadata": {
    "id": "XTBWSb4LDSvl"
   },
   "outputs": [
    {
     "data": {
      "text/html": [
       "<div>\n",
       "<style scoped>\n",
       "    .dataframe tbody tr th:only-of-type {\n",
       "        vertical-align: middle;\n",
       "    }\n",
       "\n",
       "    .dataframe tbody tr th {\n",
       "        vertical-align: top;\n",
       "    }\n",
       "\n",
       "    .dataframe thead th {\n",
       "        text-align: right;\n",
       "    }\n",
       "</style>\n",
       "<table border=\"1\" class=\"dataframe\">\n",
       "  <thead>\n",
       "    <tr style=\"text-align: right;\">\n",
       "      <th></th>\n",
       "      <th>visitors</th>\n",
       "      <th>ad_impressions</th>\n",
       "      <th>major_sports_event</th>\n",
       "      <th>genre</th>\n",
       "      <th>dayofweek</th>\n",
       "      <th>season</th>\n",
       "      <th>views_trailer</th>\n",
       "      <th>views_content</th>\n",
       "      <th>views_trailer_log</th>\n",
       "    </tr>\n",
       "  </thead>\n",
       "  <tbody>\n",
       "    <tr>\n",
       "      <th>0</th>\n",
       "      <td>1.67</td>\n",
       "      <td>1113.81</td>\n",
       "      <td>No</td>\n",
       "      <td>Horror</td>\n",
       "      <td>Wednesday</td>\n",
       "      <td>Spring</td>\n",
       "      <td>56.70</td>\n",
       "      <td>0.51</td>\n",
       "      <td>4.037774</td>\n",
       "    </tr>\n",
       "    <tr>\n",
       "      <th>1</th>\n",
       "      <td>1.46</td>\n",
       "      <td>1498.41</td>\n",
       "      <td>Yes</td>\n",
       "      <td>Thriller</td>\n",
       "      <td>Friday</td>\n",
       "      <td>Fall</td>\n",
       "      <td>52.69</td>\n",
       "      <td>0.32</td>\n",
       "      <td>3.964426</td>\n",
       "    </tr>\n",
       "    <tr>\n",
       "      <th>2</th>\n",
       "      <td>1.47</td>\n",
       "      <td>1079.19</td>\n",
       "      <td>Yes</td>\n",
       "      <td>Thriller</td>\n",
       "      <td>Wednesday</td>\n",
       "      <td>Fall</td>\n",
       "      <td>48.74</td>\n",
       "      <td>0.39</td>\n",
       "      <td>3.886500</td>\n",
       "    </tr>\n",
       "    <tr>\n",
       "      <th>3</th>\n",
       "      <td>1.85</td>\n",
       "      <td>1342.77</td>\n",
       "      <td>Yes</td>\n",
       "      <td>Sci-Fi</td>\n",
       "      <td>Friday</td>\n",
       "      <td>Fall</td>\n",
       "      <td>49.81</td>\n",
       "      <td>0.44</td>\n",
       "      <td>3.908216</td>\n",
       "    </tr>\n",
       "    <tr>\n",
       "      <th>4</th>\n",
       "      <td>1.46</td>\n",
       "      <td>1498.41</td>\n",
       "      <td>No</td>\n",
       "      <td>Sci-Fi</td>\n",
       "      <td>Sunday</td>\n",
       "      <td>Winter</td>\n",
       "      <td>55.83</td>\n",
       "      <td>0.46</td>\n",
       "      <td>4.022311</td>\n",
       "    </tr>\n",
       "  </tbody>\n",
       "</table>\n",
       "</div>"
      ],
      "text/plain": [
       "   visitors  ad_impressions major_sports_event     genre  dayofweek  season  \\\n",
       "0      1.67         1113.81                 No    Horror  Wednesday  Spring   \n",
       "1      1.46         1498.41                Yes  Thriller     Friday    Fall   \n",
       "2      1.47         1079.19                Yes  Thriller  Wednesday    Fall   \n",
       "3      1.85         1342.77                Yes    Sci-Fi     Friday    Fall   \n",
       "4      1.46         1498.41                 No    Sci-Fi     Sunday  Winter   \n",
       "\n",
       "   views_trailer  views_content  views_trailer_log  \n",
       "0          56.70           0.51           4.037774  \n",
       "1          52.69           0.32           3.964426  \n",
       "2          48.74           0.39           3.886500  \n",
       "3          49.81           0.44           3.908216  \n",
       "4          55.83           0.46           4.022311  "
      ]
     },
     "execution_count": 28,
     "metadata": {},
     "output_type": "execute_result"
    }
   ],
   "source": [
    "df[\"major_sports_event\"] = df[\"major_sports_event\"].replace({0: \"No\", 1: \"Yes\"})\n",
    "df.head()"
   ]
  },
  {
   "cell_type": "markdown",
   "metadata": {
    "id": "bWqVqggEDnxk"
   },
   "source": [
    "### Outlier Check\n",
    "\n",
    "- Let's check for outliers in the data."
   ]
  },
  {
   "cell_type": "code",
   "execution_count": 29,
   "metadata": {
    "id": "pGeVA52ZDwzF"
   },
   "outputs": [
    {
     "data": {
      "image/png": "[encoded data removed]",
      "text/plain": [
       "<Figure size 1080x864 with 5 Axes>"
      ]
     },
     "metadata": {},
     "output_type": "display_data"
    }
   ],
   "source": [
    "# outlier detection using boxplot\n",
    "numeric_columns = df.select_dtypes(include=np.number).columns.tolist()\n",
    "\n",
    "plt.figure(figsize=(15, 12))\n",
    "\n",
    "for i, variable in enumerate(numeric_columns):\n",
    "    plt.subplot(3, 4, i + 1)\n",
    "    plt.boxplot(df[variable], whis=1.5)\n",
    "    plt.tight_layout()\n",
    "    plt.title(variable)\n",
    "\n",
    "plt.show()"
   ]
  },
  {
   "cell_type": "markdown",
   "metadata": {},
   "source": [
    "### Observations\n",
    "\n",
    "- There are quite a few outliers in the data.\n",
    "- However, we will not treat them as they are proper values.\n",
    "- We will use views_trailer_log instead views_trailer since it has less outliers."
   ]
  },
  {
   "cell_type": "markdown",
   "metadata": {
    "id": "lRCMBypID3fb"
   },
   "source": [
    "### Data Preparation for modeling\n",
    "\n",
    "- We want to determine the driving factors behind first-day viewership, so we will use `views_content` as our target variable.\n",
    "- We will drop the log-transformed version of the number of trailer views.\n",
    "- Before we proceed to build a model, we'll have to encode categorical features.\n",
    "- We'll split the data into train and test to be able to evaluate the model that we build on the train data."
   ]
  },
  {
   "cell_type": "code",
   "execution_count": 30,
   "metadata": {
    "id": "R77o1Dj3D9II"
   },
   "outputs": [
    {
     "name": "stdout",
     "output_type": "stream",
     "text": [
      "   visitors  ad_impressions major_sports_event     genre  dayofweek  season  \\\n",
      "0      1.67         1113.81                 No    Horror  Wednesday  Spring   \n",
      "1      1.46         1498.41                Yes  Thriller     Friday    Fall   \n",
      "2      1.47         1079.19                Yes  Thriller  Wednesday    Fall   \n",
      "3      1.85         1342.77                Yes    Sci-Fi     Friday    Fall   \n",
      "4      1.46         1498.41                 No    Sci-Fi     Sunday  Winter   \n",
      "\n",
      "   views_trailer_log  \n",
      "0           4.037774  \n",
      "1           3.964426  \n",
      "2           3.886500  \n",
      "3           3.908216  \n",
      "4           4.022311  \n",
      "0    0.51\n",
      "1    0.32\n",
      "2    0.39\n",
      "3    0.44\n",
      "4    0.46\n",
      "Name: views_content, dtype: float64\n"
     ]
    }
   ],
   "source": [
    "# defining the dependent and independent variables\n",
    "X = df.drop([\"views_trailer\", \"views_content\"], axis=1)\n",
    "y = df[\"views_content\"] # fill the blank to define the dependent (target) variable\n",
    "\n",
    "print(X.head())\n",
    "print(y.head())"
   ]
  },
  {
   "cell_type": "code",
   "execution_count": 31,
   "metadata": {
    "id": "o0hFGAvWFGiO"
   },
   "outputs": [
    {
     "data": {
      "text/html": [
       "<div>\n",
       "<style scoped>\n",
       "    .dataframe tbody tr th:only-of-type {\n",
       "        vertical-align: middle;\n",
       "    }\n",
       "\n",
       "    .dataframe tbody tr th {\n",
       "        vertical-align: top;\n",
       "    }\n",
       "\n",
       "    .dataframe thead th {\n",
       "        text-align: right;\n",
       "    }\n",
       "</style>\n",
       "<table border=\"1\" class=\"dataframe\">\n",
       "  <thead>\n",
       "    <tr style=\"text-align: right;\">\n",
       "      <th></th>\n",
       "      <th>visitors</th>\n",
       "      <th>ad_impressions</th>\n",
       "      <th>views_trailer_log</th>\n",
       "      <th>major_sports_event_Yes</th>\n",
       "      <th>genre_Comedy</th>\n",
       "      <th>genre_Drama</th>\n",
       "      <th>genre_Horror</th>\n",
       "      <th>genre_Others</th>\n",
       "      <th>genre_Romance</th>\n",
       "      <th>genre_Sci-Fi</th>\n",
       "      <th>genre_Thriller</th>\n",
       "      <th>dayofweek_Monday</th>\n",
       "      <th>dayofweek_Saturday</th>\n",
       "      <th>dayofweek_Sunday</th>\n",
       "      <th>dayofweek_Thursday</th>\n",
       "      <th>dayofweek_Tuesday</th>\n",
       "      <th>dayofweek_Wednesday</th>\n",
       "      <th>season_Spring</th>\n",
       "      <th>season_Summer</th>\n",
       "      <th>season_Winter</th>\n",
       "    </tr>\n",
       "  </thead>\n",
       "  <tbody>\n",
       "    <tr>\n",
       "      <th>0</th>\n",
       "      <td>1.67</td>\n",
       "      <td>1113.81</td>\n",
       "      <td>4.037774</td>\n",
       "      <td>0</td>\n",
       "      <td>0</td>\n",
       "      <td>0</td>\n",
       "      <td>1</td>\n",
       "      <td>0</td>\n",
       "      <td>0</td>\n",
       "      <td>0</td>\n",
       "      <td>0</td>\n",
       "      <td>0</td>\n",
       "      <td>0</td>\n",
       "      <td>0</td>\n",
       "      <td>0</td>\n",
       "      <td>0</td>\n",
       "      <td>1</td>\n",
       "      <td>1</td>\n",
       "      <td>0</td>\n",
       "      <td>0</td>\n",
       "    </tr>\n",
       "    <tr>\n",
       "      <th>1</th>\n",
       "      <td>1.46</td>\n",
       "      <td>1498.41</td>\n",
       "      <td>3.964426</td>\n",
       "      <td>1</td>\n",
       "      <td>0</td>\n",
       "      <td>0</td>\n",
       "      <td>0</td>\n",
       "      <td>0</td>\n",
       "      <td>0</td>\n",
       "      <td>0</td>\n",
       "      <td>1</td>\n",
       "      <td>0</td>\n",
       "      <td>0</td>\n",
       "      <td>0</td>\n",
       "      <td>0</td>\n",
       "      <td>0</td>\n",
       "      <td>0</td>\n",
       "      <td>0</td>\n",
       "      <td>0</td>\n",
       "      <td>0</td>\n",
       "    </tr>\n",
       "    <tr>\n",
       "      <th>2</th>\n",
       "      <td>1.47</td>\n",
       "      <td>1079.19</td>\n",
       "      <td>3.886500</td>\n",
       "      <td>1</td>\n",
       "      <td>0</td>\n",
       "      <td>0</td>\n",
       "      <td>0</td>\n",
       "      <td>0</td>\n",
       "      <td>0</td>\n",
       "      <td>0</td>\n",
       "      <td>1</td>\n",
       "      <td>0</td>\n",
       "      <td>0</td>\n",
       "      <td>0</td>\n",
       "      <td>0</td>\n",
       "      <td>0</td>\n",
       "      <td>1</td>\n",
       "      <td>0</td>\n",
       "      <td>0</td>\n",
       "      <td>0</td>\n",
       "    </tr>\n",
       "    <tr>\n",
       "      <th>3</th>\n",
       "      <td>1.85</td>\n",
       "      <td>1342.77</td>\n",
       "      <td>3.908216</td>\n",
       "      <td>1</td>\n",
       "      <td>0</td>\n",
       "      <td>0</td>\n",
       "      <td>0</td>\n",
       "      <td>0</td>\n",
       "      <td>0</td>\n",
       "      <td>1</td>\n",
       "      <td>0</td>\n",
       "      <td>0</td>\n",
       "      <td>0</td>\n",
       "      <td>0</td>\n",
       "      <td>0</td>\n",
       "      <td>0</td>\n",
       "      <td>0</td>\n",
       "      <td>0</td>\n",
       "      <td>0</td>\n",
       "      <td>0</td>\n",
       "    </tr>\n",
       "    <tr>\n",
       "      <th>4</th>\n",
       "      <td>1.46</td>\n",
       "      <td>1498.41</td>\n",
       "      <td>4.022311</td>\n",
       "      <td>0</td>\n",
       "      <td>0</td>\n",
       "      <td>0</td>\n",
       "      <td>0</td>\n",
       "      <td>0</td>\n",
       "      <td>0</td>\n",
       "      <td>1</td>\n",
       "      <td>0</td>\n",
       "      <td>0</td>\n",
       "      <td>0</td>\n",
       "      <td>1</td>\n",
       "      <td>0</td>\n",
       "      <td>0</td>\n",
       "      <td>0</td>\n",
       "      <td>0</td>\n",
       "      <td>0</td>\n",
       "      <td>1</td>\n",
       "    </tr>\n",
       "  </tbody>\n",
       "</table>\n",
       "</div>"
      ],
      "text/plain": [
       "   visitors  ad_impressions  views_trailer_log  major_sports_event_Yes  \\\n",
       "0      1.67         1113.81           4.037774                       0   \n",
       "1      1.46         1498.41           3.964426                       1   \n",
       "2      1.47         1079.19           3.886500                       1   \n",
       "3      1.85         1342.77           3.908216                       1   \n",
       "4      1.46         1498.41           4.022311                       0   \n",
       "\n",
       "   genre_Comedy  genre_Drama  genre_Horror  genre_Others  genre_Romance  \\\n",
       "0             0            0             1             0              0   \n",
       "1             0            0             0             0              0   \n",
       "2             0            0             0             0              0   \n",
       "3             0            0             0             0              0   \n",
       "4             0            0             0             0              0   \n",
       "\n",
       "   genre_Sci-Fi  genre_Thriller  dayofweek_Monday  dayofweek_Saturday  \\\n",
       "0             0               0                 0                   0   \n",
       "1             0               1                 0                   0   \n",
       "2             0               1                 0                   0   \n",
       "3             1               0                 0                   0   \n",
       "4             1               0                 0                   0   \n",
       "\n",
       "   dayofweek_Sunday  dayofweek_Thursday  dayofweek_Tuesday  \\\n",
       "0                 0                   0                  0   \n",
       "1                 0                   0                  0   \n",
       "2                 0                   0                  0   \n",
       "3                 0                   0                  0   \n",
       "4                 1                   0                  0   \n",
       "\n",
       "   dayofweek_Wednesday  season_Spring  season_Summer  season_Winter  \n",
       "0                    1              1              0              0  \n",
       "1                    0              0              0              0  \n",
       "2                    1              0              0              0  \n",
       "3                    0              0              0              0  \n",
       "4                    0              0              0              1  "
      ]
     },
     "execution_count": 31,
     "metadata": {},
     "output_type": "execute_result"
    }
   ],
   "source": [
    "# creating dummy variables\n",
    "X = pd.get_dummies(\n",
    "    X,\n",
    "    columns=X.select_dtypes(include=[\"object\", \"category\"]).columns.tolist(),\n",
    "    drop_first=True,\n",
    ")\n",
    "\n",
    "X.head()"
   ]
  },
  {
   "cell_type": "code",
   "execution_count": 32,
   "metadata": {
    "id": "FDRcw3goFcR6"
   },
   "outputs": [],
   "source": [
    "# splitting the data in 70:30 ratio for train to test data\n",
    "\n",
    "x_train, x_test, y_train, y_test = train_test_split(X, y, test_size=0.3, random_state=1) ## Complete the code to split the data into train and test in specified ratio"
   ]
  },
  {
   "cell_type": "code",
   "execution_count": 33,
   "metadata": {
    "id": "w2KsvL6XFg_M"
   },
   "outputs": [
    {
     "name": "stdout",
     "output_type": "stream",
     "text": [
      "Number of rows in train data = 700\n",
      "Number of rows in test data = 300\n"
     ]
    }
   ],
   "source": [
    "print(\"Number of rows in train data =\", x_train.shape[0])\n",
    "print(\"Number of rows in test data =\", x_test.shape[0]) # fill the blank to print number of rows in test set"
   ]
  },
  {
   "cell_type": "markdown",
   "metadata": {
    "id": "GUsFRiZ1Ftbd"
   },
   "source": [
    "## Building a Linear Regression model\n"
   ]
  },
  {
   "cell_type": "code",
   "execution_count": 34,
   "metadata": {
    "scrolled": true
   },
   "outputs": [
    {
     "name": "stdout",
     "output_type": "stream",
     "text": [
      "                            OLS Regression Results                            \n",
      "==============================================================================\n",
      "Dep. Variable:          views_content   R-squared:                       0.789\n",
      "Model:                            OLS   Adj. R-squared:                  0.783\n",
      "Method:                 Least Squares   F-statistic:                     127.3\n",
      "Date:                Mon, 03 Jan 2022   Prob (F-statistic):          4.44e-214\n",
      "Time:                        14:16:34   Log-Likelihood:                 1121.0\n",
      "No. Observations:                 700   AIC:                            -2200.\n",
      "Df Residuals:                     679   BIC:                            -2104.\n",
      "Df Model:                          20                                         \n",
      "Covariance Type:            nonrobust                                         \n",
      "==========================================================================================\n",
      "                             coef    std err          t      P>|t|      [0.025      0.975]\n",
      "------------------------------------------------------------------------------------------\n",
      "const                     -0.6794      0.028    -24.082      0.000      -0.735      -0.624\n",
      "visitors                   0.1275      0.008     16.073      0.000       0.112       0.143\n",
      "ad_impressions          4.487e-06   6.62e-06      0.678      0.498    -8.5e-06    1.75e-05\n",
      "views_trailer_log          0.2181      0.005     41.890      0.000       0.208       0.228\n",
      "major_sports_event_Yes    -0.0629      0.004    -15.840      0.000      -0.071      -0.055\n",
      "genre_Comedy               0.0087      0.008      1.085      0.278      -0.007       0.024\n",
      "genre_Drama                0.0104      0.008      1.272      0.204      -0.006       0.026\n",
      "genre_Horror               0.0087      0.008      1.059      0.290      -0.007       0.025\n",
      "genre_Others               0.0058      0.007      0.814      0.416      -0.008       0.020\n",
      "genre_Romance              0.0014      0.008      0.170      0.865      -0.015       0.018\n",
      "genre_Sci-Fi               0.0162      0.008      1.960      0.050   -2.58e-05       0.032\n",
      "genre_Thriller             0.0082      0.008      1.016      0.310      -0.008       0.024\n",
      "dayofweek_Monday           0.0307      0.012      2.581      0.010       0.007       0.054\n",
      "dayofweek_Saturday         0.0571      0.007      7.942      0.000       0.043       0.071\n",
      "dayofweek_Sunday           0.0367      0.008      4.658      0.000       0.021       0.052\n",
      "dayofweek_Thursday         0.0155      0.007      2.285      0.023       0.002       0.029\n",
      "dayofweek_Tuesday          0.0248      0.014      1.799      0.072      -0.002       0.052\n",
      "dayofweek_Wednesday        0.0460      0.005     10.181      0.000       0.037       0.055\n",
      "season_Spring              0.0253      0.005      4.705      0.000       0.015       0.036\n",
      "season_Summer              0.0460      0.005      8.393      0.000       0.035       0.057\n",
      "season_Winter              0.0271      0.005      5.057      0.000       0.017       0.038\n",
      "==============================================================================\n",
      "Omnibus:                        5.292   Durbin-Watson:                   1.976\n",
      "Prob(Omnibus):                  0.071   Jarque-Bera (JB):                5.209\n",
      "Skew:                           0.175   Prob(JB):                       0.0739\n",
      "Kurtosis:                       3.236   Cond. No.                     2.28e+04\n",
      "==============================================================================\n",
      "\n",
      "Notes:\n",
      "[1] Standard Errors assume that the covariance matrix of the errors is correctly specified.\n",
      "[2] The condition number is large, 2.28e+04. This might indicate that there are\n",
      "strong multicollinearity or other numerical problems.\n"
     ]
    }
   ],
   "source": [
    "# adding constant to the train data\n",
    "x_train1 = sm.add_constant(x_train)\n",
    "# adding constant to the test data\n",
    "x_test1 = sm.add_constant(x_test)\n",
    "\n",
    "olsmodel1 = sm.OLS(y_train, x_train1).fit()\n",
    "print(olsmodel1.summary())"
   ]
  },
  {
   "cell_type": "markdown",
   "metadata": {},
   "source": [
    "### Observations\n",
    "\n",
    "- The R-squared is  0.792 and Adjusted R squared is  0.785, indicating that it can explain ~79% of the variance in the views_content.\n",
    "\n",
    "- This is a clear indication that we have been able to create a very good model which is not underfitting the data.\n",
    "\n",
    "- To be able to make statistical inferences from our model, we will have to test that the linear regression assumptions are followed."
   ]
  },
  {
   "cell_type": "markdown",
   "metadata": {
    "id": "usI1QwhPGHw2"
   },
   "source": [
    "## Model performance evaluation"
   ]
  },
  {
   "cell_type": "markdown",
   "metadata": {
    "id": "fTxcDeJBGMQf"
   },
   "source": [
    "Let's check the model performance.\n",
    "\n",
    "- We will be using metric functions defined in sklearn for RMSE and MAE.\n",
    "- We will define a function to calculate MAPE."
   ]
  },
  {
   "cell_type": "code",
   "execution_count": 35,
   "metadata": {
    "id": "kWl57JtuGKiK"
   },
   "outputs": [],
   "source": [
    "# function to compute MAPE\n",
    "def mape_score(targets, predictions):\n",
    "    return np.mean(np.abs(targets - predictions) / targets) * 100\n",
    "\n",
    "\n",
    "# function to compute different metrics to check performance of a regression model\n",
    "def model_performance_regression(model, predictors, target):\n",
    "    \"\"\"\n",
    "    Function to compute different metrics to check regression model performance\n",
    "\n",
    "    model: regressor\n",
    "    predictors: independent variables\n",
    "    target: dependent variable\n",
    "    \"\"\"\n",
    "\n",
    "    # predicting using the independent variables\n",
    "    pred = model.predict(predictors)\n",
    "\n",
    "    rmse = np.sqrt(mean_squared_error(target, pred))  # to compute RMSE\n",
    "    mae = mean_absolute_error(target, pred)  # to compute MAE\n",
    "    mape = mape_score(target, pred)  # to compute MAPE\n",
    "\n",
    "    # creating a dataframe of metrics\n",
    "    df_perf = pd.DataFrame(\n",
    "        {\n",
    "            \"RMSE\": rmse,\n",
    "            \"MAE\": mae,\n",
    "            \"MAPE\": mape,\n",
    "        },\n",
    "        index=[0],\n",
    "    )\n",
    "\n",
    "    return df_perf"
   ]
  },
  {
   "cell_type": "code",
   "execution_count": 36,
   "metadata": {
    "id": "r7sauvUKGWzy"
   },
   "outputs": [
    {
     "name": "stdout",
     "output_type": "stream",
     "text": [
      "Training Performance\n",
      "\n"
     ]
    },
    {
     "data": {
      "text/html": [
       "<div>\n",
       "<style scoped>\n",
       "    .dataframe tbody tr th:only-of-type {\n",
       "        vertical-align: middle;\n",
       "    }\n",
       "\n",
       "    .dataframe tbody tr th {\n",
       "        vertical-align: top;\n",
       "    }\n",
       "\n",
       "    .dataframe thead th {\n",
       "        text-align: right;\n",
       "    }\n",
       "</style>\n",
       "<table border=\"1\" class=\"dataframe\">\n",
       "  <thead>\n",
       "    <tr style=\"text-align: right;\">\n",
       "      <th></th>\n",
       "      <th>RMSE</th>\n",
       "      <th>MAE</th>\n",
       "      <th>MAPE</th>\n",
       "    </tr>\n",
       "  </thead>\n",
       "  <tbody>\n",
       "    <tr>\n",
       "      <th>0</th>\n",
       "      <td>0.048784</td>\n",
       "      <td>0.038471</td>\n",
       "      <td>8.556523</td>\n",
       "    </tr>\n",
       "  </tbody>\n",
       "</table>\n",
       "</div>"
      ],
      "text/plain": [
       "       RMSE       MAE      MAPE\n",
       "0  0.048784  0.038471  8.556523"
      ]
     },
     "execution_count": 36,
     "metadata": {},
     "output_type": "execute_result"
    }
   ],
   "source": [
    "# checking model performance on train set (seen 70% data)\n",
    "print(\"Training Performance\\n\")\n",
    "olsmodel1_train_perf = model_performance_regression(olsmodel1, x_train1, y_train) # Complete the code to check the performance on train data\n",
    "olsmodel1_train_perf"
   ]
  },
  {
   "cell_type": "code",
   "execution_count": 37,
   "metadata": {
    "id": "y6M7oLCuGseN"
   },
   "outputs": [
    {
     "name": "stdout",
     "output_type": "stream",
     "text": [
      "Test Performance\n",
      "\n"
     ]
    },
    {
     "data": {
      "text/html": [
       "<div>\n",
       "<style scoped>\n",
       "    .dataframe tbody tr th:only-of-type {\n",
       "        vertical-align: middle;\n",
       "    }\n",
       "\n",
       "    .dataframe tbody tr th {\n",
       "        vertical-align: top;\n",
       "    }\n",
       "\n",
       "    .dataframe thead th {\n",
       "        text-align: right;\n",
       "    }\n",
       "</style>\n",
       "<table border=\"1\" class=\"dataframe\">\n",
       "  <thead>\n",
       "    <tr style=\"text-align: right;\">\n",
       "      <th></th>\n",
       "      <th>RMSE</th>\n",
       "      <th>MAE</th>\n",
       "      <th>MAPE</th>\n",
       "    </tr>\n",
       "  </thead>\n",
       "  <tbody>\n",
       "    <tr>\n",
       "      <th>0</th>\n",
       "      <td>0.050387</td>\n",
       "      <td>0.040572</td>\n",
       "      <td>9.000462</td>\n",
       "    </tr>\n",
       "  </tbody>\n",
       "</table>\n",
       "</div>"
      ],
      "text/plain": [
       "       RMSE       MAE      MAPE\n",
       "0  0.050387  0.040572  9.000462"
      ]
     },
     "execution_count": 37,
     "metadata": {},
     "output_type": "execute_result"
    }
   ],
   "source": [
    "# checking model performance on test set (seen 30% data)\n",
    "print(\"Test Performance\\n\")\n",
    "olsmodel1_test_perf = model_performance_regression(olsmodel1, x_test1, y_test) # Complete the code to check the performance on test data\n",
    "olsmodel1_test_perf"
   ]
  },
  {
   "cell_type": "markdown",
   "metadata": {
    "id": "5f8u650BG3gn"
   },
   "source": [
    "**Observations**\n",
    "- RMSE and MAE of train and test data are close, which indicates that our model is not overfitting the train data.\n",
    "\n",
    "- MAE indicates that our current model is able to predict the view_content within a mean error of ~0.04 views on test data.\n",
    "\n",
    "- The RMSE values are higher than the MAE values as the squares of residuals penalizes the model more for larger errors in prediction.\n",
    "- Despite being able to capture about 79% of the variation in the data, the MAE is around 0.04 views as it makes less predictions errors for the extreme values.\n",
    "- MAPE of ~9.00 on the test data indicates that the model can predict within ~9.00% of the view content.\n"
   ]
  },
  {
   "cell_type": "markdown",
   "metadata": {
    "id": "eMPnyfqnG9xt"
   },
   "source": [
    "## Checking Linear Regression Assumptions"
   ]
  },
  {
   "cell_type": "markdown",
   "metadata": {
    "id": "mPUrR10sG-rm"
   },
   "source": [
    "We will be checking the following Linear Regression assumptions:\n",
    "\n",
    "1. **No Multicollinearity**\n",
    "\n",
    "2. **Linearity of variables**\n",
    "\n",
    "3. **Independence of error terms**\n",
    "\n",
    "4. **Normality of error terms**\n",
    "\n",
    "5. **No Heteroscedasticity**"
   ]
  },
  {
   "cell_type": "markdown",
   "metadata": {
    "id": "cBJacfPUHCum"
   },
   "source": [
    "### TEST FOR MULTICOLLINEARITY\n",
    "\n",
    "- We will test for multicollinearity using VIF.\n",
    "\n",
    "- **General Rule of thumb**:\n",
    "    - If VIF is 1 then there is no correlation between the $k$th predictor and the remaining predictor variables.\n",
    "    - If VIF exceeds 5 or is close to exceeding 5, we say there is moderate multicollinearity.\n",
    "    - If VIF is 10 or exceeding 10, it shows signs of high multicollinearity."
   ]
  },
  {
   "cell_type": "code",
   "execution_count": 38,
   "metadata": {
    "id": "1vM0yRrQG53H"
   },
   "outputs": [],
   "source": [
    "from statsmodels.stats.outliers_influence import variance_inflation_factor\n",
    "\n",
    "# we will define a function to check VIF\n",
    "def checking_vif(predictors):\n",
    "    vif = pd.DataFrame()\n",
    "    vif[\"feature\"] = predictors.columns\n",
    "\n",
    "    # calculating VIF for each feature\n",
    "    vif[\"VIF\"] = [\n",
    "        variance_inflation_factor(predictors.values, i)\n",
    "        for i in range(len(predictors.columns))\n",
    "    ]\n",
    "    return vif"
   ]
  },
  {
   "cell_type": "code",
   "execution_count": 39,
   "metadata": {
    "id": "FiXSbH6BHJZC"
   },
   "outputs": [
    {
     "data": {
      "text/html": [
       "<div>\n",
       "<style scoped>\n",
       "    .dataframe tbody tr th:only-of-type {\n",
       "        vertical-align: middle;\n",
       "    }\n",
       "\n",
       "    .dataframe tbody tr th {\n",
       "        vertical-align: top;\n",
       "    }\n",
       "\n",
       "    .dataframe thead th {\n",
       "        text-align: right;\n",
       "    }\n",
       "</style>\n",
       "<table border=\"1\" class=\"dataframe\">\n",
       "  <thead>\n",
       "    <tr style=\"text-align: right;\">\n",
       "      <th></th>\n",
       "      <th>feature</th>\n",
       "      <th>VIF</th>\n",
       "    </tr>\n",
       "  </thead>\n",
       "  <tbody>\n",
       "    <tr>\n",
       "      <th>0</th>\n",
       "      <td>const</td>\n",
       "      <td>227.077457</td>\n",
       "    </tr>\n",
       "    <tr>\n",
       "      <th>1</th>\n",
       "      <td>visitors</td>\n",
       "      <td>1.027577</td>\n",
       "    </tr>\n",
       "    <tr>\n",
       "      <th>2</th>\n",
       "      <td>ad_impressions</td>\n",
       "      <td>1.029327</td>\n",
       "    </tr>\n",
       "    <tr>\n",
       "      <th>3</th>\n",
       "      <td>views_trailer_log</td>\n",
       "      <td>1.024619</td>\n",
       "    </tr>\n",
       "    <tr>\n",
       "      <th>4</th>\n",
       "      <td>major_sports_event_Yes</td>\n",
       "      <td>1.067046</td>\n",
       "    </tr>\n",
       "    <tr>\n",
       "      <th>5</th>\n",
       "      <td>genre_Comedy</td>\n",
       "      <td>1.917293</td>\n",
       "    </tr>\n",
       "    <tr>\n",
       "      <th>6</th>\n",
       "      <td>genre_Drama</td>\n",
       "      <td>1.925585</td>\n",
       "    </tr>\n",
       "    <tr>\n",
       "      <th>7</th>\n",
       "      <td>genre_Horror</td>\n",
       "      <td>1.904129</td>\n",
       "    </tr>\n",
       "    <tr>\n",
       "      <th>8</th>\n",
       "      <td>genre_Others</td>\n",
       "      <td>2.573297</td>\n",
       "    </tr>\n",
       "    <tr>\n",
       "      <th>9</th>\n",
       "      <td>genre_Romance</td>\n",
       "      <td>1.753616</td>\n",
       "    </tr>\n",
       "    <tr>\n",
       "      <th>10</th>\n",
       "      <td>genre_Sci-Fi</td>\n",
       "      <td>1.863830</td>\n",
       "    </tr>\n",
       "    <tr>\n",
       "      <th>11</th>\n",
       "      <td>genre_Thriller</td>\n",
       "      <td>1.920930</td>\n",
       "    </tr>\n",
       "    <tr>\n",
       "      <th>12</th>\n",
       "      <td>dayofweek_Monday</td>\n",
       "      <td>1.063493</td>\n",
       "    </tr>\n",
       "    <tr>\n",
       "      <th>13</th>\n",
       "      <td>dayofweek_Saturday</td>\n",
       "      <td>1.155733</td>\n",
       "    </tr>\n",
       "    <tr>\n",
       "      <th>14</th>\n",
       "      <td>dayofweek_Sunday</td>\n",
       "      <td>1.150390</td>\n",
       "    </tr>\n",
       "    <tr>\n",
       "      <th>15</th>\n",
       "      <td>dayofweek_Thursday</td>\n",
       "      <td>1.170613</td>\n",
       "    </tr>\n",
       "    <tr>\n",
       "      <th>16</th>\n",
       "      <td>dayofweek_Tuesday</td>\n",
       "      <td>1.062441</td>\n",
       "    </tr>\n",
       "    <tr>\n",
       "      <th>17</th>\n",
       "      <td>dayofweek_Wednesday</td>\n",
       "      <td>1.315979</td>\n",
       "    </tr>\n",
       "    <tr>\n",
       "      <th>18</th>\n",
       "      <td>season_Spring</td>\n",
       "      <td>1.541040</td>\n",
       "    </tr>\n",
       "    <tr>\n",
       "      <th>19</th>\n",
       "      <td>season_Summer</td>\n",
       "      <td>1.567433</td>\n",
       "    </tr>\n",
       "    <tr>\n",
       "      <th>20</th>\n",
       "      <td>season_Winter</td>\n",
       "      <td>1.570464</td>\n",
       "    </tr>\n",
       "  </tbody>\n",
       "</table>\n",
       "</div>"
      ],
      "text/plain": [
       "                   feature         VIF\n",
       "0                    const  227.077457\n",
       "1                 visitors    1.027577\n",
       "2           ad_impressions    1.029327\n",
       "3        views_trailer_log    1.024619\n",
       "4   major_sports_event_Yes    1.067046\n",
       "5             genre_Comedy    1.917293\n",
       "6              genre_Drama    1.925585\n",
       "7             genre_Horror    1.904129\n",
       "8             genre_Others    2.573297\n",
       "9            genre_Romance    1.753616\n",
       "10            genre_Sci-Fi    1.863830\n",
       "11          genre_Thriller    1.920930\n",
       "12        dayofweek_Monday    1.063493\n",
       "13      dayofweek_Saturday    1.155733\n",
       "14        dayofweek_Sunday    1.150390\n",
       "15      dayofweek_Thursday    1.170613\n",
       "16       dayofweek_Tuesday    1.062441\n",
       "17     dayofweek_Wednesday    1.315979\n",
       "18           season_Spring    1.541040\n",
       "19           season_Summer    1.567433\n",
       "20           season_Winter    1.570464"
      ]
     },
     "execution_count": 39,
     "metadata": {},
     "output_type": "execute_result"
    }
   ],
   "source": [
    "checking_vif(x_train1)  ## Complete the code to check VIF on train data"
   ]
  },
  {
   "cell_type": "markdown",
   "metadata": {},
   "source": [
    "### Observation\n",
    "- There is no VIF greater than or equal to 5. We do not need to drop any variable due to moderate or high correlation. "
   ]
  },
  {
   "cell_type": "markdown",
   "metadata": {
    "id": "mznCPuDIHSOP"
   },
   "source": [
    "### Dropping high p-value variables\n",
    "\n",
    "- We will drop the predictor variables having a p-value greater than 0.05 as they do not significantly impact the target variable.\n",
    "- But sometimes p-values change after dropping a variable. So, we'll not drop all variables at once.\n",
    "- Instead, we will do the following:\n",
    "    - Build a model, check the p-values of the variables, and drop the column with the highest p-value.\n",
    "    - Create a new model without the dropped feature, check the p-values of the variables, and drop the column with the highest p-value.\n",
    "    - Repeat the above two steps till there are no columns with p-value > 0.05.\n",
    "\n",
    "The above process can also be done manually by picking one variable at a time that has a high p-value, dropping it, and building a model again. But that might be a little tedious and using a loop will be more efficient."
   ]
  },
  {
   "cell_type": "code",
   "execution_count": 40,
   "metadata": {},
   "outputs": [
    {
     "name": "stdout",
     "output_type": "stream",
     "text": [
      "['const', 'visitors', 'views_trailer_log', 'major_sports_event_Yes', 'dayofweek_Monday', 'dayofweek_Saturday', 'dayofweek_Sunday', 'dayofweek_Thursday', 'dayofweek_Wednesday', 'season_Spring', 'season_Summer', 'season_Winter']\n"
     ]
    }
   ],
   "source": [
    "# initial list of columns\n",
    "cols = x_train1.columns.tolist()   ## Complete the code to check for p-values on the right dataset\n",
    "\n",
    "# setting an initial max p-value\n",
    "max_p_value = 1\n",
    "\n",
    "while len(cols) > 0:\n",
    "    # defining the train set\n",
    "    x_train_aux = x_train1[cols]   ## Complete the code to check for p-values on the right dataset\n",
    "\n",
    "    # fitting the model\n",
    "    model = sm.OLS(y_train, x_train_aux).fit()\n",
    "\n",
    "    # getting the p-values and the maximum p-value\n",
    "    p_values = model.pvalues\n",
    "    max_p_value = max(p_values)\n",
    "\n",
    "    # name of the variable with maximum p-value\n",
    "    feature_with_p_max = p_values.idxmax()\n",
    "\n",
    "    if max_p_value > 0.05:\n",
    "        cols.remove(feature_with_p_max)\n",
    "    else:\n",
    "        break\n",
    "\n",
    "selected_features = cols\n",
    "print(selected_features)"
   ]
  },
  {
   "cell_type": "code",
   "execution_count": 41,
   "metadata": {},
   "outputs": [],
   "source": [
    "from statsmodels.stats.outliers_influence import variance_inflation_factor    \n",
    "\n",
    "def calculate_vif_(X, thresh=0.05):\n",
    "    variables = list(range(X.shape[1]))\n",
    "    dropped = True\n",
    "    while dropped:\n",
    "        dropped = False\n",
    "        vif = [variance_inflation_factor(X.iloc[:, variables].values, ix)\n",
    "               for ix in range(X.iloc[:, variables].shape[1])]\n",
    "\n",
    "        maxloc = vif.index(max(vif))\n",
    "        if max(vif) > thresh:\n",
    "            print('dropping \\'' + X.iloc[:, variables].columns[maxloc] +\n",
    "                  '\\' at index: ' + str(maxloc))\n",
    "            del variables[maxloc]\n",
    "            dropped = True\n",
    "\n",
    "    print('Remaining variables:')\n",
    "    print(X.columns[variables])\n",
    "    return X.iloc[:, variables]"
   ]
  },
  {
   "cell_type": "code",
   "execution_count": 42,
   "metadata": {
    "id": "JQ3t8TlcIIdV"
   },
   "outputs": [],
   "source": [
    "x_train2 = x_train1[selected_features]\n",
    "x_test2 = x_test1[selected_features]"
   ]
  },
  {
   "cell_type": "code",
   "execution_count": 43,
   "metadata": {
    "id": "D-9-KF2FIMXr"
   },
   "outputs": [
    {
     "name": "stdout",
     "output_type": "stream",
     "text": [
      "                            OLS Regression Results                            \n",
      "==============================================================================\n",
      "Dep. Variable:          views_content   R-squared:                       0.786\n",
      "Model:                            OLS   Adj. R-squared:                  0.783\n",
      "Method:                 Least Squares   F-statistic:                     230.4\n",
      "Date:                Mon, 03 Jan 2022   Prob (F-statistic):          3.72e-222\n",
      "Time:                        14:16:34   Log-Likelihood:                 1116.1\n",
      "No. Observations:                 700   AIC:                            -2208.\n",
      "Df Residuals:                     688   BIC:                            -2154.\n",
      "Df Model:                          11                                         \n",
      "Covariance Type:            nonrobust                                         \n",
      "==========================================================================================\n",
      "                             coef    std err          t      P>|t|      [0.025      0.975]\n",
      "------------------------------------------------------------------------------------------\n",
      "const                     -0.6649      0.026    -26.030      0.000      -0.715      -0.615\n",
      "visitors                   0.1273      0.008     16.121      0.000       0.112       0.143\n",
      "views_trailer_log          0.2183      0.005     42.075      0.000       0.208       0.229\n",
      "major_sports_event_Yes    -0.0632      0.004    -16.195      0.000      -0.071      -0.056\n",
      "dayofweek_Monday           0.0284      0.012      2.400      0.017       0.005       0.052\n",
      "dayofweek_Saturday         0.0564      0.007      7.911      0.000       0.042       0.070\n",
      "dayofweek_Sunday           0.0348      0.008      4.486      0.000       0.020       0.050\n",
      "dayofweek_Thursday         0.0134      0.007      1.990      0.047       0.000       0.027\n",
      "dayofweek_Wednesday        0.0449      0.004     10.107      0.000       0.036       0.054\n",
      "season_Spring              0.0252      0.005      4.720      0.000       0.015       0.036\n",
      "season_Summer              0.0451      0.005      8.391      0.000       0.035       0.056\n",
      "season_Winter              0.0284      0.005      5.356      0.000       0.018       0.039\n",
      "==============================================================================\n",
      "Omnibus:                        4.286   Durbin-Watson:                   1.965\n",
      "Prob(Omnibus):                  0.117   Jarque-Bera (JB):                4.120\n",
      "Skew:                           0.164   Prob(JB):                        0.127\n",
      "Kurtosis:                       3.183   Cond. No.                         64.9\n",
      "==============================================================================\n",
      "\n",
      "Notes:\n",
      "[1] Standard Errors assume that the covariance matrix of the errors is correctly specified.\n"
     ]
    }
   ],
   "source": [
    "olsmodel2 = sm.OLS(y_train, x_train2).fit() # Complete the code fit OLS model\n",
    "print(olsmodel2.summary())"
   ]
  },
  {
   "cell_type": "code",
   "execution_count": 44,
   "metadata": {
    "id": "NodiiJeMIb8H"
   },
   "outputs": [
    {
     "name": "stdout",
     "output_type": "stream",
     "text": [
      "Training Performance\n",
      "\n"
     ]
    },
    {
     "data": {
      "text/html": [
       "<div>\n",
       "<style scoped>\n",
       "    .dataframe tbody tr th:only-of-type {\n",
       "        vertical-align: middle;\n",
       "    }\n",
       "\n",
       "    .dataframe tbody tr th {\n",
       "        vertical-align: top;\n",
       "    }\n",
       "\n",
       "    .dataframe thead th {\n",
       "        text-align: right;\n",
       "    }\n",
       "</style>\n",
       "<table border=\"1\" class=\"dataframe\">\n",
       "  <thead>\n",
       "    <tr style=\"text-align: right;\">\n",
       "      <th></th>\n",
       "      <th>RMSE</th>\n",
       "      <th>MAE</th>\n",
       "      <th>MAPE</th>\n",
       "    </tr>\n",
       "  </thead>\n",
       "  <tbody>\n",
       "    <tr>\n",
       "      <th>0</th>\n",
       "      <td>0.049125</td>\n",
       "      <td>0.038719</td>\n",
       "      <td>8.607913</td>\n",
       "    </tr>\n",
       "  </tbody>\n",
       "</table>\n",
       "</div>"
      ],
      "text/plain": [
       "       RMSE       MAE      MAPE\n",
       "0  0.049125  0.038719  8.607913"
      ]
     },
     "execution_count": 44,
     "metadata": {},
     "output_type": "execute_result"
    }
   ],
   "source": [
    "# checking model performance on train set (seen 70% data)\n",
    "print(\"Training Performance\\n\")\n",
    "olsmodel2_train_perf = model_performance_regression(olsmodel2, x_train2, y_train)\n",
    "olsmodel2_train_perf"
   ]
  },
  {
   "cell_type": "code",
   "execution_count": 45,
   "metadata": {
    "id": "iGX-I5vVIgDr"
   },
   "outputs": [
    {
     "name": "stdout",
     "output_type": "stream",
     "text": [
      "Test Performance\n",
      "\n"
     ]
    },
    {
     "data": {
      "text/html": [
       "<div>\n",
       "<style scoped>\n",
       "    .dataframe tbody tr th:only-of-type {\n",
       "        vertical-align: middle;\n",
       "    }\n",
       "\n",
       "    .dataframe tbody tr th {\n",
       "        vertical-align: top;\n",
       "    }\n",
       "\n",
       "    .dataframe thead th {\n",
       "        text-align: right;\n",
       "    }\n",
       "</style>\n",
       "<table border=\"1\" class=\"dataframe\">\n",
       "  <thead>\n",
       "    <tr style=\"text-align: right;\">\n",
       "      <th></th>\n",
       "      <th>RMSE</th>\n",
       "      <th>MAE</th>\n",
       "      <th>MAPE</th>\n",
       "    </tr>\n",
       "  </thead>\n",
       "  <tbody>\n",
       "    <tr>\n",
       "      <th>0</th>\n",
       "      <td>0.050759</td>\n",
       "      <td>0.040963</td>\n",
       "      <td>9.11115</td>\n",
       "    </tr>\n",
       "  </tbody>\n",
       "</table>\n",
       "</div>"
      ],
      "text/plain": [
       "       RMSE       MAE     MAPE\n",
       "0  0.050759  0.040963  9.11115"
      ]
     },
     "execution_count": 45,
     "metadata": {},
     "output_type": "execute_result"
    }
   ],
   "source": [
    "# checking model performance on test set (seen 30% data)\n",
    "print(\"Test Performance\\n\")\n",
    "olsmodel2_test_perf = model_performance_regression(olsmodel2, x_test2, y_test) # Fill the blank to get model performance on test set\n",
    "olsmodel2_test_perf"
   ]
  },
  {
   "cell_type": "markdown",
   "metadata": {},
   "source": [
    "### Observations\n",
    "- RMSE and MAE of train and test data are close again, which indicates that our model is not overfitting the train data.\n",
    "- MAPE score is improved little bit in the new model. MAPE of ~9.11 on the test data indicates that the model can predict within ~9.11 % of the view content. "
   ]
  },
  {
   "cell_type": "markdown",
   "metadata": {
    "id": "sy1bZODDItPi"
   },
   "source": [
    "**Now we'll check the rest of the assumptions on *olsmod2*.**\n",
    "\n",
    "2. **Linearity of variables**\n",
    "\n",
    "3. **Independence of error terms**\n",
    "\n",
    "4. **Normality of error terms**\n",
    "\n",
    "5. **No Heteroscedasticity**"
   ]
  },
  {
   "cell_type": "markdown",
   "metadata": {
    "id": "LUSyilT5IyVV"
   },
   "source": [
    "### TEST FOR LINEARITY AND INDEPENDENCE\n",
    "\n",
    "- We will test for linearity and independence by making a plot of fitted values vs residuals and checking for patterns.\n",
    "- If there is no pattern, then we say the model is linear and residuals are independent.\n",
    "- Otherwise, the model is showing signs of non-linearity and residuals are not independent."
   ]
  },
  {
   "cell_type": "code",
   "execution_count": 46,
   "metadata": {
    "id": "JrhMrdh1IgLU"
   },
   "outputs": [
    {
     "data": {
      "text/html": [
       "<div>\n",
       "<style scoped>\n",
       "    .dataframe tbody tr th:only-of-type {\n",
       "        vertical-align: middle;\n",
       "    }\n",
       "\n",
       "    .dataframe tbody tr th {\n",
       "        vertical-align: top;\n",
       "    }\n",
       "\n",
       "    .dataframe thead th {\n",
       "        text-align: right;\n",
       "    }\n",
       "</style>\n",
       "<table border=\"1\" class=\"dataframe\">\n",
       "  <thead>\n",
       "    <tr style=\"text-align: right;\">\n",
       "      <th></th>\n",
       "      <th>Actual Values</th>\n",
       "      <th>Fitted Values</th>\n",
       "      <th>Residuals</th>\n",
       "    </tr>\n",
       "  </thead>\n",
       "  <tbody>\n",
       "    <tr>\n",
       "      <th>731</th>\n",
       "      <td>0.40</td>\n",
       "      <td>0.441477</td>\n",
       "      <td>-0.041477</td>\n",
       "    </tr>\n",
       "    <tr>\n",
       "      <th>716</th>\n",
       "      <td>0.70</td>\n",
       "      <td>0.691118</td>\n",
       "      <td>0.008882</td>\n",
       "    </tr>\n",
       "    <tr>\n",
       "      <th>640</th>\n",
       "      <td>0.42</td>\n",
       "      <td>0.438828</td>\n",
       "      <td>-0.018828</td>\n",
       "    </tr>\n",
       "    <tr>\n",
       "      <th>804</th>\n",
       "      <td>0.55</td>\n",
       "      <td>0.589140</td>\n",
       "      <td>-0.039140</td>\n",
       "    </tr>\n",
       "    <tr>\n",
       "      <th>737</th>\n",
       "      <td>0.59</td>\n",
       "      <td>0.546851</td>\n",
       "      <td>0.043149</td>\n",
       "    </tr>\n",
       "  </tbody>\n",
       "</table>\n",
       "</div>"
      ],
      "text/plain": [
       "     Actual Values  Fitted Values  Residuals\n",
       "731           0.40       0.441477  -0.041477\n",
       "716           0.70       0.691118   0.008882\n",
       "640           0.42       0.438828  -0.018828\n",
       "804           0.55       0.589140  -0.039140\n",
       "737           0.59       0.546851   0.043149"
      ]
     },
     "execution_count": 46,
     "metadata": {},
     "output_type": "execute_result"
    }
   ],
   "source": [
    "# let us create a dataframe with actual, fitted and residual values\n",
    "df_pred = pd.DataFrame()\n",
    "\n",
    "df_pred[\"Actual Values\"] = y_train ## Complete the code to store the actual values\n",
    "df_pred[\"Fitted Values\"] = olsmodel2.fittedvalues  # predicted values\n",
    "df_pred[\"Residuals\"] = olsmodel2.resid  # residuals\n",
    "\n",
    "df_pred.head()"
   ]
  },
  {
   "cell_type": "markdown",
   "metadata": {},
   "source": [
    "### Observation \n",
    "- Actual values and Fitted Values are very close to each other."
   ]
  },
  {
   "cell_type": "code",
   "execution_count": 47,
   "metadata": {
    "id": "cpKT7HoOJU8R"
   },
   "outputs": [
    {
     "data": {
      "image/png": "[encoded data removed]",
      "text/plain": [
       "<Figure size 432x288 with 1 Axes>"
      ]
     },
     "metadata": {},
     "output_type": "display_data"
    }
   ],
   "source": [
    "# let's plot the fitted values vs residuals\n",
    "\n",
    "sns.residplot(\n",
    "    data=df_pred, x=\"Fitted Values\", y=\"Residuals\", color=\"purple\", lowess=True\n",
    ")\n",
    "plt.xlabel(\"Fitted Values\")\n",
    "plt.ylabel(\"Residuals\")\n",
    "plt.title(\"Fitted vs Residual plot\")\n",
    "plt.show()"
   ]
  },
  {
   "cell_type": "markdown",
   "metadata": {},
   "source": [
    "### Observations\n",
    "\n",
    "- We see no pattern in the plot above.\n",
    "- Hence, the assumptions of linearity and independence are satisfied."
   ]
  },
  {
   "cell_type": "markdown",
   "metadata": {
    "id": "Zykc-DiYJaDl"
   },
   "source": [
    "### TEST FOR NORMALITY\n",
    "\n",
    "- We will test for normality by checking the distribution of residuals, by checking the Q-Q plot of residuals, and by using the Shapiro-Wilk test.\n",
    "- If the residuals follow a normal distribution, they will make a straight line plot, otherwise not.\n",
    "- If the p-value of the Shapiro-Wilk test is greater than 0.05, we can say the residuals are normally distributed."
   ]
  },
  {
   "cell_type": "code",
   "execution_count": 48,
   "metadata": {
    "id": "f2PPibAMJUML"
   },
   "outputs": [
    {
     "data": {
      "image/png": "[encoded data removed]",
      "text/plain": [
       "<Figure size 432x288 with 1 Axes>"
      ]
     },
     "metadata": {},
     "output_type": "display_data"
    }
   ],
   "source": [
    "# Complete the code to check for normality\n",
    "sns.histplot(data=df_pred, x=\"Residuals\", kde=True)\n",
    "plt.title(\"Normality of residuals\")\n",
    "plt.show()"
   ]
  },
  {
   "cell_type": "markdown",
   "metadata": {},
   "source": [
    "### Observations\n",
    "\n",
    "- The histogram of residuals does have a bell shape.\n",
    "- Let's check the Q-Q plot."
   ]
  },
  {
   "cell_type": "code",
   "execution_count": 49,
   "metadata": {
    "id": "1lsMWfVoJu3B"
   },
   "outputs": [
    {
     "data": {
      "image/png": "[encoded data removed]",
      "text/plain": [
       "<Figure size 432x288 with 1 Axes>"
      ]
     },
     "metadata": {},
     "output_type": "display_data"
    }
   ],
   "source": [
    "import pylab\n",
    "import scipy.stats as stats\n",
    "\n",
    "stats.probplot(df_pred[\"Residuals\"], dist=\"norm\", plot=pylab)  ## Complete the code check Q-Q plot\n",
    "plt.show()"
   ]
  },
  {
   "cell_type": "markdown",
   "metadata": {},
   "source": [
    "### Observations\n",
    "\n",
    "- The residuals more or less follow a straight line except for the tails.\n",
    "- Let's check the results of the Shapiro-Wilk test.\n"
   ]
  },
  {
   "cell_type": "code",
   "execution_count": 50,
   "metadata": {
    "id": "4e6yv0y_J2lD"
   },
   "outputs": [
    {
     "data": {
      "text/plain": [
       "ShapiroResult(statistic=0.9975143074989319, pvalue=0.37990015745162964)"
      ]
     },
     "execution_count": 50,
     "metadata": {},
     "output_type": "execute_result"
    }
   ],
   "source": [
    "stats.shapiro(df_pred[\"Residuals\"]) # fill the blank to check p-value"
   ]
  },
  {
   "cell_type": "markdown",
   "metadata": {},
   "source": [
    "### Observations\n",
    "\n",
    "- Since p-value > 0.05, the residuals are normal as per the Shapiro-Wilk test.\n",
    "- The residuals are normal. \n",
    "- So, the assumption is satisfied."
   ]
  },
  {
   "cell_type": "markdown",
   "metadata": {
    "id": "2JJqJeZRJ9h5"
   },
   "source": [
    "### TEST FOR HOMOSCEDASTICITY\n",
    "\n",
    "- We will test for homoscedasticity by using the goldfeldquandt test.\n",
    "- If we get a p-value greater than 0.05, we can say that the residuals are homoscedastic. Otherwise, they are heteroscedastic."
   ]
  },
  {
   "cell_type": "code",
   "execution_count": 51,
   "metadata": {
    "id": "ZJ4TQ3_RJ-Fv"
   },
   "outputs": [
    {
     "data": {
      "text/plain": [
       "[('F statistic', 1.1808584229707833), ('p-value', 0.06348616545163326)]"
      ]
     },
     "execution_count": 51,
     "metadata": {},
     "output_type": "execute_result"
    }
   ],
   "source": [
    "import statsmodels.stats.api as sms\n",
    "from statsmodels.compat import lzip\n",
    "\n",
    "name = [\"F statistic\", \"p-value\"]\n",
    "test = sms.het_goldfeldquandt(df_pred[\"Residuals\"], x_train2) ## Complete the code to check homoscedasticity\n",
    "lzip(name, test)"
   ]
  },
  {
   "cell_type": "markdown",
   "metadata": {},
   "source": [
    "### Observations\n",
    "\n",
    "- Since p-value > 0.05, the residuals are homoscedastic.\n",
    "- So, the assumption is satisfied."
   ]
  },
  {
   "cell_type": "markdown",
   "metadata": {
    "id": "eJ_Ew2iRKOqb"
   },
   "source": [
    "## Final Model Summary"
   ]
  },
  {
   "cell_type": "code",
   "execution_count": 52,
   "metadata": {
    "id": "qIMTnrdwKPLO"
   },
   "outputs": [
    {
     "name": "stdout",
     "output_type": "stream",
     "text": [
      "                            OLS Regression Results                            \n",
      "==============================================================================\n",
      "Dep. Variable:          views_content   R-squared:                       0.786\n",
      "Model:                            OLS   Adj. R-squared:                  0.783\n",
      "Method:                 Least Squares   F-statistic:                     230.4\n",
      "Date:                Mon, 03 Jan 2022   Prob (F-statistic):          3.72e-222\n",
      "Time:                        14:16:35   Log-Likelihood:                 1116.1\n",
      "No. Observations:                 700   AIC:                            -2208.\n",
      "Df Residuals:                     688   BIC:                            -2154.\n",
      "Df Model:                          11                                         \n",
      "Covariance Type:            nonrobust                                         \n",
      "==========================================================================================\n",
      "                             coef    std err          t      P>|t|      [0.025      0.975]\n",
      "------------------------------------------------------------------------------------------\n",
      "const                     -0.6649      0.026    -26.030      0.000      -0.715      -0.615\n",
      "visitors                   0.1273      0.008     16.121      0.000       0.112       0.143\n",
      "views_trailer_log          0.2183      0.005     42.075      0.000       0.208       0.229\n",
      "major_sports_event_Yes    -0.0632      0.004    -16.195      0.000      -0.071      -0.056\n",
      "dayofweek_Monday           0.0284      0.012      2.400      0.017       0.005       0.052\n",
      "dayofweek_Saturday         0.0564      0.007      7.911      0.000       0.042       0.070\n",
      "dayofweek_Sunday           0.0348      0.008      4.486      0.000       0.020       0.050\n",
      "dayofweek_Thursday         0.0134      0.007      1.990      0.047       0.000       0.027\n",
      "dayofweek_Wednesday        0.0449      0.004     10.107      0.000       0.036       0.054\n",
      "season_Spring              0.0252      0.005      4.720      0.000       0.015       0.036\n",
      "season_Summer              0.0451      0.005      8.391      0.000       0.035       0.056\n",
      "season_Winter              0.0284      0.005      5.356      0.000       0.018       0.039\n",
      "==============================================================================\n",
      "Omnibus:                        4.286   Durbin-Watson:                   1.965\n",
      "Prob(Omnibus):                  0.117   Jarque-Bera (JB):                4.120\n",
      "Skew:                           0.164   Prob(JB):                        0.127\n",
      "Kurtosis:                       3.183   Cond. No.                         64.9\n",
      "==============================================================================\n",
      "\n",
      "Notes:\n",
      "[1] Standard Errors assume that the covariance matrix of the errors is correctly specified.\n"
     ]
    }
   ],
   "source": [
    "x_train_final = x_train2.copy()\n",
    "x_test_final = x_test2.copy()\n",
    "\n",
    "olsmodel_final = sm.OLS(y_train, x_train_final).fit() # fill the blank to fit the final model\n",
    "print(olsmodel_final.summary())"
   ]
  },
  {
   "cell_type": "code",
   "execution_count": 53,
   "metadata": {
    "id": "0bvN4czXKes9"
   },
   "outputs": [
    {
     "name": "stdout",
     "output_type": "stream",
     "text": [
      "Training Performance\n",
      "\n"
     ]
    },
    {
     "data": {
      "text/html": [
       "<div>\n",
       "<style scoped>\n",
       "    .dataframe tbody tr th:only-of-type {\n",
       "        vertical-align: middle;\n",
       "    }\n",
       "\n",
       "    .dataframe tbody tr th {\n",
       "        vertical-align: top;\n",
       "    }\n",
       "\n",
       "    .dataframe thead th {\n",
       "        text-align: right;\n",
       "    }\n",
       "</style>\n",
       "<table border=\"1\" class=\"dataframe\">\n",
       "  <thead>\n",
       "    <tr style=\"text-align: right;\">\n",
       "      <th></th>\n",
       "      <th>RMSE</th>\n",
       "      <th>MAE</th>\n",
       "      <th>MAPE</th>\n",
       "    </tr>\n",
       "  </thead>\n",
       "  <tbody>\n",
       "    <tr>\n",
       "      <th>0</th>\n",
       "      <td>0.049125</td>\n",
       "      <td>0.038719</td>\n",
       "      <td>8.607913</td>\n",
       "    </tr>\n",
       "  </tbody>\n",
       "</table>\n",
       "</div>"
      ],
      "text/plain": [
       "       RMSE       MAE      MAPE\n",
       "0  0.049125  0.038719  8.607913"
      ]
     },
     "execution_count": 53,
     "metadata": {},
     "output_type": "execute_result"
    }
   ],
   "source": [
    "# checking model performance on train set (seen 70% data)\n",
    "print(\"Training Performance\\n\")\n",
    "olsmodel_final_train_perf = model_performance_regression(olsmodel_final, x_train_final, y_train) # fill the blank to check the performance on train data\n",
    "olsmodel_final_train_perf"
   ]
  },
  {
   "cell_type": "code",
   "execution_count": 54,
   "metadata": {
    "id": "x3taYjYbKsGT"
   },
   "outputs": [
    {
     "name": "stdout",
     "output_type": "stream",
     "text": [
      "Test Performance\n",
      "\n"
     ]
    },
    {
     "data": {
      "text/html": [
       "<div>\n",
       "<style scoped>\n",
       "    .dataframe tbody tr th:only-of-type {\n",
       "        vertical-align: middle;\n",
       "    }\n",
       "\n",
       "    .dataframe tbody tr th {\n",
       "        vertical-align: top;\n",
       "    }\n",
       "\n",
       "    .dataframe thead th {\n",
       "        text-align: right;\n",
       "    }\n",
       "</style>\n",
       "<table border=\"1\" class=\"dataframe\">\n",
       "  <thead>\n",
       "    <tr style=\"text-align: right;\">\n",
       "      <th></th>\n",
       "      <th>RMSE</th>\n",
       "      <th>MAE</th>\n",
       "      <th>MAPE</th>\n",
       "    </tr>\n",
       "  </thead>\n",
       "  <tbody>\n",
       "    <tr>\n",
       "      <th>0</th>\n",
       "      <td>0.050759</td>\n",
       "      <td>0.040963</td>\n",
       "      <td>9.11115</td>\n",
       "    </tr>\n",
       "  </tbody>\n",
       "</table>\n",
       "</div>"
      ],
      "text/plain": [
       "       RMSE       MAE     MAPE\n",
       "0  0.050759  0.040963  9.11115"
      ]
     },
     "execution_count": 54,
     "metadata": {},
     "output_type": "execute_result"
    }
   ],
   "source": [
    "# checking model performance on test set (seen 30% data)\n",
    "print(\"Test Performance\\n\")\n",
    "olsmodel_final_test_perf = model_performance_regression(olsmodel_final, x_test_final, y_test) # fill the blank to check the performance on train data\n",
    "olsmodel_final_test_perf"
   ]
  },
  {
   "cell_type": "markdown",
   "metadata": {
    "id": "9VxXutBIK1F9"
   },
   "source": [
    "##  Actionable Insights and Recommendations\n",
    "### Conclusion \n",
    "- Data had no missing value. \n",
    "- views_trailer_log is the most significant factor in the data. One unit increase will make a change about 22% in content_view.\n",
    "- 40% of the events are major sports event. In the major sports event days we are expecting a decrease on content view ~ 6% .\n",
    "- Eventhough new contents releases mostly on Friday and Wednesday. Saturday and Wednesday are most effective days in terms of content view. \n",
    "- ad_impressions was not a good predictor for the data.\n",
    "- genre had no impact on the data\n",
    "- Final predictors are visitors, views_trailer_log, major_sports_event_Yes, dayofweek_Monday, dayofweek_Saturday, dayofweek_Sunday, dayofweek_Thursday, dayofweek_Wednesday, season_Spring, season_Summer, season_Winter.     \n",
    "\n",
    "### Recommendations\n",
    "- New content should release on Wednesday, Friday and Saturday to maximize the content view. \n",
    "- There should be no new content release on the major spors event, because we will miss minimum 6% of the visitors. \n",
    "- There should be more content release in the Winter since we have more visitors in that season.\n"
   ]
  },
  {
   "cell_type": "code",
   "execution_count": null,
   "metadata": {},
   "outputs": [],
   "source": []
  }
 ],
 "metadata": {
  "colab": {
   "collapsed_sections": [],
   "name": "SLF P2 (ShowTime) Learner Notebook (Low Code).ipynb",
   "provenance": []
  },
  "kernelspec": {
   "display_name": "Python 3",
   "language": "python",
   "name": "python3"
  },
  "language_info": {
   "codemirror_mode": {
    "name": "ipython",
    "version": 3
   },
   "file_extension": ".py",
   "mimetype": "text/x-python",
   "name": "python",
   "nbconvert_exporter": "python",
   "pygments_lexer": "ipython3",
   "version": "3.8.8"
  }
 },
 "nbformat": 4,
 "nbformat_minor": 1
}
